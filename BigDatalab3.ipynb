{
 "cells": [
  {
   "cell_type": "code",
   "execution_count": 1,
   "id": "95db0c65-872f-4772-b52a-232e02135938",
   "metadata": {},
   "outputs": [
    {
     "name": "stdout",
     "output_type": "stream",
     "text": [
      "[2, 4, 6]\n",
      "[0, 2, 4]\n",
      "7\n"
     ]
    }
   ],
   "source": [
    "from functools import reduce\n",
    "\n",
    "def map_reduce(func, iterable):\n",
    "    return reduce(lambda acc, x: acc + [func(x)], iterable, [])\n",
    "\n",
    "def filter_reduce(pred, iterable):\n",
    "    return reduce(lambda acc, x: acc + [x] if pred(x) else acc, iterable, [])\n",
    "\n",
    "def compose_reduce(*funcs):\n",
    "    return reduce(lambda f, g: lambda x: f(g(x)), funcs)\n",
    "\n",
    "\n",
    "print(map_reduce(lambda x: x*2, [1, 2, 3]))             \n",
    "print(filter_reduce(lambda x: x % 2 == 0, range(6)))    \n",
    "f = compose_reduce(lambda x: x + 1, lambda x: x * 2)\n",
    "print(f(3))  \n",
    "\n"
   ]
  },
  {
   "cell_type": "code",
   "execution_count": 1,
   "id": "a651b0b6-9d37-4b68-ad39-408c087d6150",
   "metadata": {},
   "outputs": [
    {
     "name": "stdout",
     "output_type": "stream",
     "text": [
      "  Route_ID User_ID                   Sequence\n",
      "0        1      23      42->32->48->20->29->9\n",
      "1        2     124          7->44->43->50->30\n",
      "2        3     135   27->3->32->28->2->36->31\n",
      "3        4      86  38->2->20->19->40->39->29\n",
      "4        5     137                  27->24->3\n"
     ]
    }
   ],
   "source": [
    "import csv\n",
    "import pandas as pd\n",
    "\n",
    "def first_three_columns_generator(csv_path):\n",
    "    with open(csv_path, newline='', encoding='utf-8') as f:\n",
    "        reader = csv.reader(f)\n",
    "        header = next(reader)  \n",
    "        for row in reader:\n",
    "            yield row[:3]      \n",
    "\n",
    "csv_path = \"tourism_dynamic_routes_1345.csv\"\n",
    "\n",
    "\n",
    "with open(csv_path, newline='', encoding='utf-8') as f:\n",
    "    reader = csv.reader(f)\n",
    "    header = next(reader)\n",
    "    colnames = header[:3]\n",
    "\n",
    "\n",
    "df = pd.DataFrame(first_three_columns_generator(csv_path), columns=colnames)\n",
    "\n",
    "print(df.head())\n"
   ]
  },
  {
   "cell_type": "code",
   "execution_count": null,
   "id": "86e6d2d5-478e-45b8-bba5-c792142eee42",
   "metadata": {},
   "outputs": [],
   "source": []
  }
 ],
 "metadata": {
  "kernelspec": {
   "display_name": "Python 3 (ipykernel)",
   "language": "python",
   "name": "python3"
  },
  "language_info": {
   "codemirror_mode": {
    "name": "ipython",
    "version": 3
   },
   "file_extension": ".py",
   "mimetype": "text/x-python",
   "name": "python",
   "nbconvert_exporter": "python",
   "pygments_lexer": "ipython3",
   "version": "3.13.7"
  }
 },
 "nbformat": 4,
 "nbformat_minor": 5
}
