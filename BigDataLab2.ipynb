{
 "cells": [
  {
   "cell_type": "code",
   "execution_count": 5,
   "id": "f3f60dc2-7968-4d14-acd2-55434eeff6ff",
   "metadata": {},
   "outputs": [
    {
     "data": {
      "text/html": [
       "<div>\n",
       "<style scoped>\n",
       "    .dataframe tbody tr th:only-of-type {\n",
       "        vertical-align: middle;\n",
       "    }\n",
       "\n",
       "    .dataframe tbody tr th {\n",
       "        vertical-align: top;\n",
       "    }\n",
       "\n",
       "    .dataframe thead th {\n",
       "        text-align: right;\n",
       "    }\n",
       "</style>\n",
       "<table border=\"1\" class=\"dataframe\">\n",
       "  <thead>\n",
       "    <tr style=\"text-align: right;\">\n",
       "      <th></th>\n",
       "      <th>Route_ID</th>\n",
       "      <th>User_ID</th>\n",
       "      <th>Sequence</th>\n",
       "      <th>Total_Duration</th>\n",
       "      <th>Total_Cost</th>\n",
       "      <th>Weather</th>\n",
       "      <th>Traffic_Level</th>\n",
       "      <th>Crowd_Density</th>\n",
       "      <th>Event_Impact</th>\n",
       "      <th>Optimal_Route_Preference</th>\n",
       "      <th>Satisfaction_Score</th>\n",
       "      <th>Age</th>\n",
       "      <th>Gender</th>\n",
       "      <th>Nationality</th>\n",
       "      <th>Travel_Companions</th>\n",
       "      <th>Budget_Category</th>\n",
       "      <th>Preferred_Theme</th>\n",
       "      <th>Preferred_Transport</th>\n",
       "    </tr>\n",
       "  </thead>\n",
       "  <tbody>\n",
       "    <tr>\n",
       "      <th>0</th>\n",
       "      <td>1</td>\n",
       "      <td>23</td>\n",
       "      <td>42-&gt;32-&gt;48-&gt;20-&gt;29-&gt;9</td>\n",
       "      <td>466</td>\n",
       "      <td>1541</td>\n",
       "      <td>Sunny</td>\n",
       "      <td>Medium</td>\n",
       "      <td>Low</td>\n",
       "      <td>Festival</td>\n",
       "      <td>9-&gt;20-&gt;29-&gt;32-&gt;42-&gt;48</td>\n",
       "      <td>2</td>\n",
       "      <td>61</td>\n",
       "      <td>Other</td>\n",
       "      <td>USA</td>\n",
       "      <td>Family</td>\n",
       "      <td>Low</td>\n",
       "      <td>Relaxation</td>\n",
       "      <td>Taxi</td>\n",
       "    </tr>\n",
       "    <tr>\n",
       "      <th>1</th>\n",
       "      <td>2</td>\n",
       "      <td>124</td>\n",
       "      <td>7-&gt;44-&gt;43-&gt;50-&gt;30</td>\n",
       "      <td>151</td>\n",
       "      <td>3817</td>\n",
       "      <td>Rainy</td>\n",
       "      <td>High</td>\n",
       "      <td>High</td>\n",
       "      <td>Festival</td>\n",
       "      <td>7-&gt;30-&gt;43-&gt;44-&gt;50</td>\n",
       "      <td>4</td>\n",
       "      <td>18</td>\n",
       "      <td>Male</td>\n",
       "      <td>India</td>\n",
       "      <td>Group</td>\n",
       "      <td>High</td>\n",
       "      <td>Shopping</td>\n",
       "      <td>Bus</td>\n",
       "    </tr>\n",
       "    <tr>\n",
       "      <th>2</th>\n",
       "      <td>3</td>\n",
       "      <td>135</td>\n",
       "      <td>27-&gt;3-&gt;32-&gt;28-&gt;2-&gt;36-&gt;31</td>\n",
       "      <td>559</td>\n",
       "      <td>8087</td>\n",
       "      <td>Rainy</td>\n",
       "      <td>Low</td>\n",
       "      <td>High</td>\n",
       "      <td>NaN</td>\n",
       "      <td>2-&gt;3-&gt;27-&gt;28-&gt;31-&gt;32-&gt;36</td>\n",
       "      <td>4</td>\n",
       "      <td>68</td>\n",
       "      <td>Male</td>\n",
       "      <td>USA</td>\n",
       "      <td>Group</td>\n",
       "      <td>Medium</td>\n",
       "      <td>Shopping</td>\n",
       "      <td>Walk</td>\n",
       "    </tr>\n",
       "    <tr>\n",
       "      <th>3</th>\n",
       "      <td>4</td>\n",
       "      <td>86</td>\n",
       "      <td>38-&gt;2-&gt;20-&gt;19-&gt;40-&gt;39-&gt;29</td>\n",
       "      <td>159</td>\n",
       "      <td>2218</td>\n",
       "      <td>Snowy</td>\n",
       "      <td>Medium</td>\n",
       "      <td>High</td>\n",
       "      <td>Festival</td>\n",
       "      <td>2-&gt;19-&gt;20-&gt;29-&gt;38-&gt;39-&gt;40</td>\n",
       "      <td>4</td>\n",
       "      <td>38</td>\n",
       "      <td>Female</td>\n",
       "      <td>USA</td>\n",
       "      <td>Friends</td>\n",
       "      <td>Low</td>\n",
       "      <td>Adventure</td>\n",
       "      <td>Car</td>\n",
       "    </tr>\n",
       "    <tr>\n",
       "      <th>4</th>\n",
       "      <td>5</td>\n",
       "      <td>137</td>\n",
       "      <td>27-&gt;24-&gt;3</td>\n",
       "      <td>466</td>\n",
       "      <td>1388</td>\n",
       "      <td>Snowy</td>\n",
       "      <td>Low</td>\n",
       "      <td>Medium</td>\n",
       "      <td>Holiday</td>\n",
       "      <td>3-&gt;24-&gt;27</td>\n",
       "      <td>2</td>\n",
       "      <td>35</td>\n",
       "      <td>Female</td>\n",
       "      <td>China</td>\n",
       "      <td>Solo</td>\n",
       "      <td>High</td>\n",
       "      <td>Cultural</td>\n",
       "      <td>Car</td>\n",
       "    </tr>\n",
       "  </tbody>\n",
       "</table>\n",
       "</div>"
      ],
      "text/plain": [
       "   Route_ID  User_ID                   Sequence  Total_Duration  Total_Cost  \\\n",
       "0         1       23      42->32->48->20->29->9             466        1541   \n",
       "1         2      124          7->44->43->50->30             151        3817   \n",
       "2         3      135   27->3->32->28->2->36->31             559        8087   \n",
       "3         4       86  38->2->20->19->40->39->29             159        2218   \n",
       "4         5      137                  27->24->3             466        1388   \n",
       "\n",
       "  Weather Traffic_Level Crowd_Density Event_Impact   Optimal_Route_Preference  \\\n",
       "0   Sunny        Medium           Low     Festival      9->20->29->32->42->48   \n",
       "1   Rainy          High          High     Festival          7->30->43->44->50   \n",
       "2   Rainy           Low          High          NaN   2->3->27->28->31->32->36   \n",
       "3   Snowy        Medium          High     Festival  2->19->20->29->38->39->40   \n",
       "4   Snowy           Low        Medium      Holiday                  3->24->27   \n",
       "\n",
       "   Satisfaction_Score  Age  Gender Nationality Travel_Companions  \\\n",
       "0                   2   61   Other         USA            Family   \n",
       "1                   4   18    Male       India             Group   \n",
       "2                   4   68    Male         USA             Group   \n",
       "3                   4   38  Female         USA           Friends   \n",
       "4                   2   35  Female       China              Solo   \n",
       "\n",
       "  Budget_Category Preferred_Theme Preferred_Transport  \n",
       "0             Low      Relaxation                Taxi  \n",
       "1            High        Shopping                 Bus  \n",
       "2          Medium        Shopping                Walk  \n",
       "3             Low       Adventure                 Car  \n",
       "4            High        Cultural                 Car  "
      ]
     },
     "execution_count": 5,
     "metadata": {},
     "output_type": "execute_result"
    }
   ],
   "source": [
    "import pandas as pd\n",
    "\n",
    "tdr = pd.read_csv('tourism_dynamic_routes_1345.csv')\n",
    "tdr.head()\n",
    "\n"
   ]
  },
  {
   "cell_type": "code",
   "execution_count": 2,
   "id": "1a151ee4-438a-461b-a9ef-9494baa4a6cd",
   "metadata": {},
   "outputs": [
    {
     "name": "stdout",
     "output_type": "stream",
     "text": [
      "37.3 ms ± 174 μs per loop (mean ± std. dev. of 7 runs, 10 loops each)\n"
     ]
    }
   ],
   "source": [
    "import numpy as np\n",
    "def tourism_index(score, age, cost, duration):\n",
    "    return (\n",
    "        np.exp(np.sin(score) + np.cos(age)) * \n",
    "        ((score ** 3 + np.log1p(age) ** 2) / (age + 1))\n",
    "    ) / (\n",
    "        np.sqrt(cost + duration) + np.log1p(cost * duration) + 1\n",
    "    )\n",
    "\n",
    "def apply_tourism_index_python(tdr):\n",
    "    return tdr.apply(lambda x: tourism_index(x[\"Satisfaction_Score\"],\n",
    "                                             x[\"Age\"],\n",
    "                                             x[\"Total_Cost\"],\n",
    "                                             x[\"Total_Duration\"]), axis=1)\n",
    "\n",
    "# тест часу\n",
    "%timeit apply_tourism_index_python(tdr)\n",
    "\n"
   ]
  },
  {
   "cell_type": "code",
   "execution_count": 3,
   "id": "cd6ae2f6-9977-4b74-b842-94866d3ca8e3",
   "metadata": {},
   "outputs": [
    {
     "name": "stdout",
     "output_type": "stream",
     "text": [
      "Час виконання: 0.042079 секунд\n"
     ]
    }
   ],
   "source": [
    "\n",
    "import time\n",
    "\n",
    "start_time_python = time.time()  # початок\n",
    "result_python = apply_tourism_index_python(tdr)\n",
    "end_time_python = time.time()    # кінець\n",
    "\n",
    "print(f\"Час виконання: {end_time_python - start_time_python:.6f} секунд\")\n"
   ]
  },
  {
   "cell_type": "code",
   "execution_count": 9,
   "id": "91532991-869d-4486-b234-ca0b20ac9597",
   "metadata": {},
   "outputs": [
    {
     "name": "stdout",
     "output_type": "stream",
     "text": [
      "The cython extension is already loaded. To reload it, use:\n",
      "  %reload_ext cython\n"
     ]
    }
   ],
   "source": [
    "%load_ext cython\n",
    "\n"
   ]
  },
  {
   "cell_type": "code",
   "execution_count": 10,
   "id": "53c7328f-b653-46ca-858d-af5af74c3be9",
   "metadata": {},
   "outputs": [],
   "source": [
    "%%cython\n",
    "import numpy as np\n",
    "cimport numpy as np\n",
    "from libc.math cimport exp, sin, cos, log, sqrt\n",
    "\n",
    "cdef double tourism_index_c(double score, double age, double cost, double duration):\n",
    "    return (\n",
    "        exp(sin(score) + cos(age)) * \n",
    "        ((score ** 3 + (log(1 + age)) ** 2) / (age + 1))\n",
    "    ) / (\n",
    "        sqrt(cost + duration) + log(1 + cost * duration) + 1\n",
    "    )\n",
    "\n",
    "cpdef apply_tourism_index_cython(double[:] scores, double[:] ages, double[:] costs, double[:] durations):\n",
    "    cdef Py_ssize_t n = scores.shape[0]\n",
    "    cdef Py_ssize_t i\n",
    "    cdef double[:] result = np.empty(n, dtype=\"float64\")\n",
    "    for i in range(n):\n",
    "        result[i] = tourism_index_c(scores[i], ages[i], costs[i], durations[i])\n",
    "    return np.asarray(result)\n",
    "\n",
    "\n"
   ]
  },
  {
   "cell_type": "code",
   "execution_count": 13,
   "id": "87e6bdf0-46e4-4d7f-81fc-17de67f5e4a2",
   "metadata": {},
   "outputs": [
    {
     "name": "stdout",
     "output_type": "stream",
     "text": [
      "Час виконання: 0.00027 секунд\n"
     ]
    }
   ],
   "source": [
    "import time\n",
    "import numpy as np\n",
    "\n",
    "\n",
    "scores = tdr[\"Satisfaction_Score\"].to_numpy(dtype=np.float64)\n",
    "ages = tdr[\"Age\"].to_numpy(dtype=np.float64)\n",
    "costs = tdr[\"Total_Cost\"].to_numpy(dtype=np.float64)\n",
    "durations = tdr[\"Total_Duration\"].to_numpy(dtype=np.float64)\n",
    "\n",
    "\n",
    "start_time_cython = time.time()\n",
    "result_cython = apply_tourism_index_cython(scores, ages, costs, durations)\n",
    "end_time_cython = time.time()\n",
    "\n",
    "print(f\"Час виконання: {end_time_cython - start_time_cython:.5f} секунд\")\n"
   ]
  },
  {
   "cell_type": "code",
   "execution_count": 3,
   "id": "5a92e574-9959-4bc0-a9f4-5882e0367b73",
   "metadata": {},
   "outputs": [],
   "source": [
    "import numba\n",
    "\n",
    "@numba.jit(nopython=True)\n",
    "def tourism_index_numba(score, age, cost, duration):\n",
    "    return (\n",
    "        np.exp(np.sin(score) + np.cos(age)) * \n",
    "        ((score ** 3 + np.log1p(age) ** 2) / (age + 1))\n",
    "    ) / (\n",
    "        np.sqrt(cost + duration) + np.log1p(cost * duration) + 1\n",
    "    )\n",
    "\n",
    "@numba.jit(nopython=True)\n",
    "def apply_tourism_index_numba(scores, ages, costs, durations):\n",
    "    n = len(scores)\n",
    "    result = np.empty(n, dtype=np.float64)\n",
    "    for i in range(n):\n",
    "        result[i] = tourism_index_numba(scores[i], ages[i], costs[i], durations[i])\n",
    "    return result\n",
    "\n",
    "\n"
   ]
  },
  {
   "cell_type": "code",
   "execution_count": 17,
   "id": "718a74e1-1c99-46dd-8820-79bb3e852ace",
   "metadata": {},
   "outputs": [
    {
     "name": "stdout",
     "output_type": "stream",
     "text": [
      "Час виконання Numba: 0.00016 секунд\n"
     ]
    }
   ],
   "source": [
    "import time\n",
    "import numpy as np\n",
    "\n",
    "scores = tdr[\"Satisfaction_Score\"].to_numpy(dtype=np.float64)\n",
    "ages = tdr[\"Age\"].to_numpy(dtype=np.float64)\n",
    "costs = tdr[\"Total_Cost\"].to_numpy(dtype=np.float64)\n",
    "durations = tdr[\"Total_Duration\"].to_numpy(dtype=np.float64)\n",
    "\n",
    "start_time_numba = time.time()\n",
    "result_numba = apply_tourism_index_numba(scores, ages, costs, durations)\n",
    "end_time_numba = time.time()\n",
    "\n",
    "print(f\"Час виконання Numba: {end_time_numba - start_time_numba:.5f} секунд\")\n"
   ]
  },
  {
   "cell_type": "code",
   "execution_count": 18,
   "id": "973269a4-5dfc-4ea0-85d8-c8579f039d8b",
   "metadata": {},
   "outputs": [
    {
     "name": "stdout",
     "output_type": "stream",
     "text": [
      "Час виконання:\n",
      "Python: 0.04208 секунд\n",
      "Cython: 0.00027 секунд\n",
      "Numba: 0.00016 секунд\n",
      "\n",
      "Найшвидша версія: Numba (0.00016 секунд)\n"
     ]
    }
   ],
   "source": [
    "\n",
    "times = {\n",
    "    \"Python\": end_time_python - start_time_python,\n",
    "    \"Cython\": end_time_cython - start_time_cython,\n",
    "    \"Numba\": end_time_numba - start_time_numba\n",
    "}\n",
    "\n",
    "\n",
    "fastest = min(times, key=times.get)\n",
    "\n",
    "\n",
    "print(\"Час виконання:\")\n",
    "for k, v in times.items():\n",
    "    print(f\"{k}: {v:.5f} секунд\")\n",
    "\n",
    "print(f\"\\nНайшвидша версія: {fastest} ({times[fastest]:.5f} секунд)\")\n"
   ]
  },
  {
   "cell_type": "code",
   "execution_count": 9,
   "id": "1d2732e4-9189-45a9-958d-f4790cdeb967",
   "metadata": {},
   "outputs": [],
   "source": [
    "import numpy as np"
   ]
  },
  {
   "cell_type": "code",
   "execution_count": 10,
   "id": "688017aa-e954-48c6-a6a6-169bff733c34",
   "metadata": {},
   "outputs": [
    {
     "ename": "TypingError",
     "evalue": "Failed in nopython mode pipeline (step: nopython frontend)\n\u001b[1m\u001b[1mNameError: name 'np' is not defined\u001b[0m\n\u001b[0m\u001b[1mDuring: Pass nopython_type_inference\u001b[0m",
     "output_type": "error",
     "traceback": [
      "\u001b[31m---------------------------------------------------------------------------\u001b[39m",
      "\u001b[31mTypingError\u001b[39m                               Traceback (most recent call last)",
      "\u001b[36mCell\u001b[39m\u001b[36m \u001b[39m\u001b[32mIn[10]\u001b[39m\u001b[32m, line 2\u001b[39m\n\u001b[32m      1\u001b[39m get_ipython().run_line_magic(\u001b[33m'\u001b[39m\u001b[33mtimeit\u001b[39m\u001b[33m'\u001b[39m, \u001b[33m'\u001b[39m\u001b[33m'\u001b[39m)\n\u001b[32m----> \u001b[39m\u001b[32m2\u001b[39m \u001b[43mapply_tourism_index_numba\u001b[49m\u001b[43m(\u001b[49m\u001b[43mtdr\u001b[49m\u001b[43m[\u001b[49m\u001b[33;43m\"\u001b[39;49m\u001b[33;43mSatisfaction_Score\u001b[39;49m\u001b[33;43m\"\u001b[39;49m\u001b[43m]\u001b[49m\u001b[43m.\u001b[49m\u001b[43mto_numpy\u001b[49m\u001b[43m(\u001b[49m\u001b[43m)\u001b[49m\u001b[43m,\u001b[49m\n\u001b[32m      3\u001b[39m \u001b[43m  \u001b[49m\u001b[43mtdr\u001b[49m\u001b[43m[\u001b[49m\u001b[33;43m\"\u001b[39;49m\u001b[33;43mAge\u001b[39;49m\u001b[33;43m\"\u001b[39;49m\u001b[43m]\u001b[49m\u001b[43m.\u001b[49m\u001b[43mto_numpy\u001b[49m\u001b[43m(\u001b[49m\u001b[43m)\u001b[49m\u001b[43m,\u001b[49m\n\u001b[32m      4\u001b[39m \u001b[43m  \u001b[49m\u001b[43mtdr\u001b[49m\u001b[43m[\u001b[49m\u001b[33;43m\"\u001b[39;49m\u001b[33;43mTotal_Cost\u001b[39;49m\u001b[33;43m\"\u001b[39;49m\u001b[43m]\u001b[49m\u001b[43m.\u001b[49m\u001b[43mto_numpy\u001b[49m\u001b[43m(\u001b[49m\u001b[43m)\u001b[49m\u001b[43m,\u001b[49m\n\u001b[32m      5\u001b[39m \u001b[43m  \u001b[49m\u001b[43mtdr\u001b[49m\u001b[43m[\u001b[49m\u001b[33;43m\"\u001b[39;49m\u001b[33;43mTotal_Duration\u001b[39;49m\u001b[33;43m\"\u001b[39;49m\u001b[43m]\u001b[49m\u001b[43m.\u001b[49m\u001b[43mto_numpy\u001b[49m\u001b[43m(\u001b[49m\u001b[43m)\u001b[49m\n\u001b[32m      6\u001b[39m \u001b[43m)\u001b[49m\n",
      "\u001b[36mFile \u001b[39m\u001b[32m~\\AppData\\Local\\Programs\\Python\\Python313\\Lib\\site-packages\\numba\\core\\dispatcher.py:424\u001b[39m, in \u001b[36m_DispatcherBase._compile_for_args\u001b[39m\u001b[34m(self, *args, **kws)\u001b[39m\n\u001b[32m    420\u001b[39m         msg = (\u001b[33mf\u001b[39m\u001b[33m\"\u001b[39m\u001b[38;5;132;01m{\u001b[39;00m\u001b[38;5;28mstr\u001b[39m(e).rstrip()\u001b[38;5;132;01m}\u001b[39;00m\u001b[33m \u001b[39m\u001b[38;5;130;01m\\n\u001b[39;00m\u001b[38;5;130;01m\\n\u001b[39;00m\u001b[33mThis error may have been caused \u001b[39m\u001b[33m\"\u001b[39m\n\u001b[32m    421\u001b[39m                \u001b[33mf\u001b[39m\u001b[33m\"\u001b[39m\u001b[33mby the following argument(s):\u001b[39m\u001b[38;5;130;01m\\n\u001b[39;00m\u001b[38;5;132;01m{\u001b[39;00margs_str\u001b[38;5;132;01m}\u001b[39;00m\u001b[38;5;130;01m\\n\u001b[39;00m\u001b[33m\"\u001b[39m)\n\u001b[32m    422\u001b[39m         e.patch_message(msg)\n\u001b[32m--> \u001b[39m\u001b[32m424\u001b[39m     \u001b[43merror_rewrite\u001b[49m\u001b[43m(\u001b[49m\u001b[43me\u001b[49m\u001b[43m,\u001b[49m\u001b[43m \u001b[49m\u001b[33;43m'\u001b[39;49m\u001b[33;43mtyping\u001b[39;49m\u001b[33;43m'\u001b[39;49m\u001b[43m)\u001b[49m\n\u001b[32m    425\u001b[39m \u001b[38;5;28;01mexcept\u001b[39;00m errors.UnsupportedError \u001b[38;5;28;01mas\u001b[39;00m e:\n\u001b[32m    426\u001b[39m     \u001b[38;5;66;03m# Something unsupported is present in the user code, add help info\u001b[39;00m\n\u001b[32m    427\u001b[39m     error_rewrite(e, \u001b[33m'\u001b[39m\u001b[33munsupported_error\u001b[39m\u001b[33m'\u001b[39m)\n",
      "\u001b[36mFile \u001b[39m\u001b[32m~\\AppData\\Local\\Programs\\Python\\Python313\\Lib\\site-packages\\numba\\core\\dispatcher.py:365\u001b[39m, in \u001b[36m_DispatcherBase._compile_for_args.<locals>.error_rewrite\u001b[39m\u001b[34m(e, issue_type)\u001b[39m\n\u001b[32m    363\u001b[39m     \u001b[38;5;28;01mraise\u001b[39;00m e\n\u001b[32m    364\u001b[39m \u001b[38;5;28;01melse\u001b[39;00m:\n\u001b[32m--> \u001b[39m\u001b[32m365\u001b[39m     \u001b[38;5;28;01mraise\u001b[39;00m e.with_traceback(\u001b[38;5;28;01mNone\u001b[39;00m)\n",
      "\u001b[31mTypingError\u001b[39m: Failed in nopython mode pipeline (step: nopython frontend)\n\u001b[1m\u001b[1mNameError: name 'np' is not defined\u001b[0m\n\u001b[0m\u001b[1mDuring: Pass nopython_type_inference\u001b[0m"
     ]
    }
   ],
   "source": [
    "%timeit\n",
    "apply_tourism_index_numba(tdr[\"Satisfaction_Score\"].to_numpy(),\n",
    "  tdr[\"Age\"].to_numpy(),\n",
    "  tdr[\"Total_Cost\"].to_numpy(),\n",
    "  tdr[\"Total_Duration\"].to_numpy()\n",
    ")"
   ]
  },
  {
   "cell_type": "code",
   "execution_count": null,
   "id": "fe19b570-ade4-4195-a2a1-3d16efe63dc7",
   "metadata": {},
   "outputs": [],
   "source": []
  }
 ],
 "metadata": {
  "kernelspec": {
   "display_name": "Python 3 (ipykernel)",
   "language": "python",
   "name": "python3"
  },
  "language_info": {
   "codemirror_mode": {
    "name": "ipython",
    "version": 3
   },
   "file_extension": ".py",
   "mimetype": "text/x-python",
   "name": "python",
   "nbconvert_exporter": "python",
   "pygments_lexer": "ipython3",
   "version": "3.13.7"
  }
 },
 "nbformat": 4,
 "nbformat_minor": 5
}
