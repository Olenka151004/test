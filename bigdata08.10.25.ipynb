{
 "cells": [
  {
   "cell_type": "code",
   "execution_count": 3,
   "id": "ca20975c-6ced-4499-82f2-42624fdf4a9b",
   "metadata": {},
   "outputs": [
    {
     "data": {
      "image/svg+xml": [
       "<svg xmlns=\"http://www.w3.org/2000/svg\" xmlns:xlink=\"http://www.w3.org/1999/xlink\" width=\"100.0\" height=\"100.0\" viewBox=\"1.2000000000000002 3.2 2.0 2.0\" preserveAspectRatio=\"xMinYMin meet\"><g transform=\"matrix(1,0,0,-1,0,8.4)\"><circle cx=\"2.2\" cy=\"4.2\" r=\"0.06\" stroke=\"#555555\" stroke-width=\"0.02\" fill=\"#66cc99\" opacity=\"0.6\" /></g></svg>"
      ],
      "text/plain": [
       "<POINT (2.2 4.2)>"
      ]
     },
     "execution_count": 3,
     "metadata": {},
     "output_type": "execute_result"
    }
   ],
   "source": [
    "from shapely import Point\n",
    "\n",
    "point = Point(2.2, 4.2)\n",
    "point3D = Point(9.26, -2.456, 0.57)\n",
    "point"
   ]
  },
  {
   "cell_type": "code",
   "execution_count": 4,
   "id": "718125e8-9dc3-4abf-adfd-c3e853da23ea",
   "metadata": {},
   "outputs": [
    {
     "name": "stdout",
     "output_type": "stream",
     "text": [
      "POINT (2.2 4.2)\n",
      "POINT Z (9.26 -2.456 0.57)\n"
     ]
    }
   ],
   "source": [
    "print(point)\n",
    "print(point3D)"
   ]
  },
  {
   "cell_type": "code",
   "execution_count": 5,
   "id": "975b3e25-f17c-4bb5-b808-b9a0b804f6b3",
   "metadata": {},
   "outputs": [
    {
     "data": {
      "text/plain": [
       "'POINT (2.2 4.2)'"
      ]
     },
     "execution_count": 5,
     "metadata": {},
     "output_type": "execute_result"
    }
   ],
   "source": [
    "point.wkt"
   ]
  },
  {
   "cell_type": "code",
   "execution_count": 6,
   "id": "516c9199-a1e5-4310-8845-83400bd10b84",
   "metadata": {},
   "outputs": [
    {
     "data": {
      "image/svg+xml": [
       "<svg xmlns=\"http://www.w3.org/2000/svg\" xmlns:xlink=\"http://www.w3.org/1999/xlink\" width=\"100.0\" height=\"100.0\" viewBox=\"1.028 -26.272000000000002 9.404 31.644000000000002\" preserveAspectRatio=\"xMinYMin meet\"><g transform=\"matrix(1,0,0,-1,0,-20.900000000000002)\"><polyline fill=\"none\" stroke=\"#66cc99\" stroke-width=\"0.63288\" points=\"2.2,4.2 7.2,-25.1 9.26,-2.456\" opacity=\"0.8\" /></g></svg>"
      ],
      "text/plain": [
       "<LINESTRING (2.2 4.2, 7.2 -25.1, 9.26 -2.456)>"
      ]
     },
     "execution_count": 6,
     "metadata": {},
     "output_type": "execute_result"
    }
   ],
   "source": [
    "from shapely import Point, LineString\n",
    "\n",
    "point1 = Point(2.2, 4.2)\n",
    "point2 = Point(7.2, -25.1)\n",
    "point3 = Point(9.26, -2.456)\n",
    "\n",
    "line = LineString([point1, point2, point3])\n",
    "line_from_tuples = LineString([(2.2, 4.2), (7.2, -25.1), (9.26, -2.456)])\n",
    "line"
   ]
  },
  {
   "cell_type": "code",
   "execution_count": 7,
   "id": "4223197b-aeee-4e58-b50e-1349b49b70a8",
   "metadata": {},
   "outputs": [
    {
     "data": {
      "text/plain": [
       "'LINESTRING (2.2 4.2, 7.2 -25.1, 9.26 -2.456)'"
      ]
     },
     "execution_count": 7,
     "metadata": {},
     "output_type": "execute_result"
    }
   ],
   "source": [
    "\n",
    "line.wkt"
   ]
  },
  {
   "cell_type": "code",
   "execution_count": 8,
   "id": "9a348432-5350-4066-b391-217830add1be",
   "metadata": {},
   "outputs": [
    {
     "data": {
      "text/plain": [
       "[(2.2, 4.2), (7.2, -25.1), (9.26, -2.456)]"
      ]
     },
     "execution_count": 8,
     "metadata": {},
     "output_type": "execute_result"
    }
   ],
   "source": [
    "list(line.coords)"
   ]
  },
  {
   "cell_type": "code",
   "execution_count": 9,
   "id": "377fa376-aa75-463a-8e17-e4783e6038d0",
   "metadata": {},
   "outputs": [
    {
     "name": "stdout",
     "output_type": "stream",
     "text": [
      "[2.2, 7.2, 9.26]\n",
      "[4.2, -25.1, -2.456]\n"
     ]
    }
   ],
   "source": [
    "xcoords = list(line.xy[0])\n",
    "ycoords = list(line.xy[1])\n",
    "\n",
    "print(xcoords)\n",
    "print(ycoords)"
   ]
  },
  {
   "cell_type": "code",
   "execution_count": 10,
   "id": "8f989998-67a7-4d42-a18f-58de06b581a9",
   "metadata": {},
   "outputs": [
    {
     "name": "stdout",
     "output_type": "stream",
     "text": [
      "Length of our line: 52.46 units\n",
      "Centroid: POINT (6.229961354035622 -11.892411157572392)\n"
     ]
    }
   ],
   "source": [
    "length = line.length\n",
    "centroid = line.centroid\n",
    "print(f\"Length of our line: {length:.2f} units\")\n",
    "print(f\"Centroid: {centroid}\")"
   ]
  },
  {
   "cell_type": "code",
   "execution_count": 11,
   "id": "64de1a07-60f6-43b0-8c98-b9aed686aa48",
   "metadata": {},
   "outputs": [
    {
     "data": {
      "image/svg+xml": [
       "<svg xmlns=\"http://www.w3.org/2000/svg\" xmlns:xlink=\"http://www.w3.org/1999/xlink\" width=\"100.0\" height=\"100.0\" viewBox=\"1.028 -26.272000000000002 9.404 31.644000000000002\" preserveAspectRatio=\"xMinYMin meet\"><g transform=\"matrix(1,0,0,-1,0,-20.900000000000002)\"><path fill-rule=\"evenodd\" fill=\"#66cc99\" stroke=\"#555555\" stroke-width=\"0.63288\" opacity=\"0.6\" d=\"M 2.2,4.2 L 7.2,-25.1 L 9.26,-2.456 L 2.2,4.2 z\" /></g></svg>"
      ],
      "text/plain": [
       "<POLYGON ((2.2 4.2, 7.2 -25.1, 9.26 -2.456, 2.2 4.2))>"
      ]
     },
     "execution_count": 11,
     "metadata": {},
     "output_type": "execute_result"
    }
   ],
   "source": [
    "from shapely import Polygon\n",
    "\n",
    "poly = Polygon([point1, point2, point3])\n",
    "poly"
   ]
  },
  {
   "cell_type": "code",
   "execution_count": 12,
   "id": "2e3df0d0-3506-4b58-a243-b7dd9651f15f",
   "metadata": {},
   "outputs": [
    {
     "data": {
      "text/plain": [
       "'POLYGON ((2.2 4.2, 7.2 -25.1, 9.26 -2.456, 2.2 4.2))'"
      ]
     },
     "execution_count": 12,
     "metadata": {},
     "output_type": "execute_result"
    }
   ],
   "source": [
    "poly.wkt"
   ]
  },
  {
   "cell_type": "code",
   "execution_count": 13,
   "id": "bc88e9d7-1af7-4072-9aae-6f36eef609ac",
   "metadata": {},
   "outputs": [],
   "source": [
    "# Define the exterior coordinates\n",
    "exterior = [(-180, 90), (-180, -90), (180, -90), (180, 90)]\n",
    "\n",
    "# Define the hole coordinates (a single hole in this case)\n",
    "holes_coordinates = [[(-170, 80), (-170, -80), (170, -80), (170, 80)]]"
   ]
  },
  {
   "cell_type": "code",
   "execution_count": 14,
   "id": "486b7c9f-269d-4d55-b825-b68e122b483a",
   "metadata": {},
   "outputs": [
    {
     "data": {
      "image/svg+xml": [
       "<svg xmlns=\"http://www.w3.org/2000/svg\" xmlns:xlink=\"http://www.w3.org/1999/xlink\" width=\"300\" height=\"208.8\" viewBox=\"-194.4 -104.4 388.8 208.8\" preserveAspectRatio=\"xMinYMin meet\"><g transform=\"matrix(1,0,0,-1,0,0.0)\"><path fill-rule=\"evenodd\" fill=\"#66cc99\" stroke=\"#555555\" stroke-width=\"2.592\" opacity=\"0.6\" d=\"M -180.0,90.0 L -180.0,-90.0 L 180.0,-90.0 L 180.0,90.0 L -180.0,90.0 z\" /></g></svg>"
      ],
      "text/plain": [
       "<POLYGON ((-180 90, -180 -90, 180 -90, 180 90, -180 90))>"
      ]
     },
     "execution_count": 14,
     "metadata": {},
     "output_type": "execute_result"
    }
   ],
   "source": [
    "poly_without_hole = Polygon(shell=exterior)\n",
    "poly_without_hole"
   ]
  },
  {
   "cell_type": "code",
   "execution_count": 15,
   "id": "571c05d0-a026-4def-bf19-2f95fabe692d",
   "metadata": {},
   "outputs": [
    {
     "data": {
      "image/svg+xml": [
       "<svg xmlns=\"http://www.w3.org/2000/svg\" xmlns:xlink=\"http://www.w3.org/1999/xlink\" width=\"300\" height=\"208.8\" viewBox=\"-194.4 -104.4 388.8 208.8\" preserveAspectRatio=\"xMinYMin meet\"><g transform=\"matrix(1,0,0,-1,0,0.0)\"><path fill-rule=\"evenodd\" fill=\"#66cc99\" stroke=\"#555555\" stroke-width=\"2.592\" opacity=\"0.6\" d=\"M -180.0,90.0 L -180.0,-90.0 L 180.0,-90.0 L 180.0,90.0 L -180.0,90.0 z M -170.0,80.0 L -170.0,-80.0 L 170.0,-80.0 L 170.0,80.0 L -170.0,80.0 z\" /></g></svg>"
      ],
      "text/plain": [
       "<POLYGON ((-180 90, -180 -90, 180 -90, 180 90, -180 90), (-170 80, -170 -80,...>"
      ]
     },
     "execution_count": 15,
     "metadata": {},
     "output_type": "execute_result"
    }
   ],
   "source": [
    "poly_with_hole = Polygon(shell=exterior, holes=holes_coordinates)\n",
    "poly_with_hole"
   ]
  },
  {
   "cell_type": "code",
   "execution_count": 16,
   "id": "582bc40e-2485-4c0a-bf26-349f1e99a8c1",
   "metadata": {},
   "outputs": [
    {
     "name": "stdout",
     "output_type": "stream",
     "text": [
      "Polygon centroid:  POINT (6.22 -7.785333333333334)\n",
      "Polygon Area:  86.789\n",
      "Polygon Bounding Box:  (2.2, -25.1, 9.26, 4.2)\n",
      "Polygon Exterior:  LINEARRING (2.2 4.2, 7.2 -25.1, 9.26 -2.456, 2.2 4.2)\n",
      "Polygon Exterior Length:  62.16395199996553\n"
     ]
    }
   ],
   "source": [
    "print(\"Polygon centroid: \", poly.centroid)\n",
    "print(\"Polygon Area: \", poly.area)\n",
    "print(\"Polygon Bounding Box: \", poly.bounds)\n",
    "print(\"Polygon Exterior: \", poly.exterior)\n",
    "print(\"Polygon Exterior Length: \", poly.exterior.length)"
   ]
  },
  {
   "cell_type": "code",
   "execution_count": 17,
   "id": "53198a3f-9727-4bab-8fa2-c67cb742040f",
   "metadata": {},
   "outputs": [
    {
     "data": {
      "image/svg+xml": [
       "<svg xmlns=\"http://www.w3.org/2000/svg\" xmlns:xlink=\"http://www.w3.org/1999/xlink\" width=\"300\" height=\"208.8\" viewBox=\"-194.4 -104.4 388.8 208.8\" preserveAspectRatio=\"xMinYMin meet\"><g transform=\"matrix(1,0,0,-1,0,0.0)\"><path fill-rule=\"evenodd\" fill=\"#66cc99\" stroke=\"#555555\" stroke-width=\"2.592\" opacity=\"0.6\" d=\"M 180.0,-90.0 L 180.0,90.0 L -180.0,90.0 L -180.0,-90.0 L 180.0,-90.0 z\" /></g></svg>"
      ],
      "text/plain": [
       "<POLYGON ((180 -90, 180 90, -180 90, -180 -90, 180 -90))>"
      ]
     },
     "execution_count": 17,
     "metadata": {},
     "output_type": "execute_result"
    }
   ],
   "source": [
    "from shapely.geometry import box\n",
    "\n",
    "min_x, min_y = -180, -90\n",
    "max_x, max_y = 180, 90\n",
    "box_poly = box(minx=min_x, miny=min_y, maxx=max_x, maxy=max_y)\n",
    "box_poly"
   ]
  },
  {
   "cell_type": "code",
   "execution_count": 18,
   "id": "64eafbd6-1dd6-41e8-a9a8-cd75ddb68e2d",
   "metadata": {},
   "outputs": [
    {
     "data": {
      "text/plain": [
       "'POLYGON ((180 -90, 180 90, -180 90, -180 -90, 180 -90))'"
      ]
     },
     "execution_count": 18,
     "metadata": {},
     "output_type": "execute_result"
    }
   ],
   "source": [
    "box_poly.wkt"
   ]
  },
  {
   "cell_type": "code",
   "execution_count": 19,
   "id": "5a927de8-8675-4880-bad3-9a31023a2950",
   "metadata": {},
   "outputs": [
    {
     "data": {
      "image/svg+xml": [
       "<svg xmlns=\"http://www.w3.org/2000/svg\" xmlns:xlink=\"http://www.w3.org/1999/xlink\" width=\"100.0\" height=\"100.0\" viewBox=\"1.96 1.96 1.08 1.08\" preserveAspectRatio=\"xMinYMin meet\"><g transform=\"matrix(1,0,0,-1,0,5.0)\"><g><circle cx=\"2.0\" cy=\"2.0\" r=\"0.0324\" stroke=\"#555555\" stroke-width=\"0.0108\" fill=\"#66cc99\" opacity=\"0.6\" /><circle cx=\"3.0\" cy=\"3.0\" r=\"0.0324\" stroke=\"#555555\" stroke-width=\"0.0108\" fill=\"#66cc99\" opacity=\"0.6\" /></g></g></svg>"
      ],
      "text/plain": [
       "<MULTIPOINT ((2 2), (3 3))>"
      ]
     },
     "execution_count": 19,
     "metadata": {},
     "output_type": "execute_result"
    }
   ],
   "source": [
    "from shapely import MultiPoint, MultiLineString, MultiPolygon\n",
    "\n",
    "multipoint = MultiPoint([Point(2, 2), Point(3, 3)])\n",
    "multipoint"
   ]
  },
  {
   "cell_type": "code",
   "execution_count": 20,
   "id": "23115d1a-58a7-4e3a-bd33-198de2e2c055",
   "metadata": {},
   "outputs": [
    {
     "data": {
      "image/svg+xml": [
       "<svg xmlns=\"http://www.w3.org/2000/svg\" xmlns:xlink=\"http://www.w3.org/1999/xlink\" width=\"100.0\" height=\"100.0\" viewBox=\"1.84 1.84 4.32 2.3200000000000003\" preserveAspectRatio=\"xMinYMin meet\"><g transform=\"matrix(1,0,0,-1,0,6.0)\"><g><polyline fill=\"none\" stroke=\"#66cc99\" stroke-width=\"0.0864\" points=\"2.0,2.0 3.0,3.0\" opacity=\"0.8\" /><polyline fill=\"none\" stroke=\"#66cc99\" stroke-width=\"0.0864\" points=\"4.0,3.0 6.0,4.0\" opacity=\"0.8\" /></g></g></svg>"
      ],
      "text/plain": [
       "<MULTILINESTRING ((2 2, 3 3), (4 3, 6 4))>"
      ]
     },
     "execution_count": 20,
     "metadata": {},
     "output_type": "execute_result"
    }
   ],
   "source": [
    "multiline = MultiLineString(\n",
    "    [LineString([(2, 2), (3, 3)]), LineString([(4, 3), (6, 4)])]\n",
    ")\n",
    "multiline"
   ]
  },
  {
   "cell_type": "code",
   "execution_count": 21,
   "id": "2f361999-3363-44af-94b5-e4e67216f42b",
   "metadata": {},
   "outputs": [
    {
     "data": {
      "image/svg+xml": [
       "<svg xmlns=\"http://www.w3.org/2000/svg\" xmlns:xlink=\"http://www.w3.org/1999/xlink\" width=\"100.0\" height=\"100.0\" viewBox=\"-0.48 -0.48 12.96 12.96\" preserveAspectRatio=\"xMinYMin meet\"><g transform=\"matrix(1,0,0,-1,0,12.0)\"><g><path fill-rule=\"evenodd\" fill=\"#66cc99\" stroke=\"#555555\" stroke-width=\"0.25920000000000004\" opacity=\"0.6\" d=\"M 0.0,0.0 L 0.0,4.0 L 4.0,4.0 L 0.0,0.0 z\" /><path fill-rule=\"evenodd\" fill=\"#66cc99\" stroke=\"#555555\" stroke-width=\"0.25920000000000004\" opacity=\"0.6\" d=\"M 6.0,6.0 L 6.0,12.0 L 12.0,12.0 L 6.0,6.0 z\" /></g></g></svg>"
      ],
      "text/plain": [
       "<MULTIPOLYGON (((0 0, 0 4, 4 4, 0 0)), ((6 6, 6 12, 12 12, 6 6)))>"
      ]
     },
     "execution_count": 21,
     "metadata": {},
     "output_type": "execute_result"
    }
   ],
   "source": [
    "multipoly = MultiPolygon(\n",
    "    [Polygon([(0, 0), (0, 4), (4, 4)]), Polygon([(6, 6), (6, 12), (12, 12)])]\n",
    ")\n",
    "multipoly"
   ]
  },
  {
   "cell_type": "code",
   "execution_count": null,
   "id": "662dd3d0-d3ba-4d7c-99cc-e7f1c5cf563b",
   "metadata": {},
   "outputs": [],
   "source": [
    "вправи"
   ]
  },
  {
   "cell_type": "code",
   "execution_count": 22,
   "id": "0bf2d778-afe5-4285-a629-b3a4a8546bb8",
   "metadata": {},
   "outputs": [
    {
     "data": {
      "image/svg+xml": [
       "<svg xmlns=\"http://www.w3.org/2000/svg\" xmlns:xlink=\"http://www.w3.org/1999/xlink\" width=\"194.4\" height=\"194.4\" viewBox=\"-97.2 -97.2 194.4 194.4\" preserveAspectRatio=\"xMinYMin meet\"><g transform=\"matrix(1,0,0,-1,0,0.0)\"><path fill-rule=\"evenodd\" fill=\"#66cc99\" stroke=\"#555555\" stroke-width=\"2.0\" opacity=\"0.6\" d=\"M 90.0,-90.0 L 90.0,90.0 L -90.0,90.0 L -90.0,-90.0 L 90.0,-90.0 z\" /></g></svg>"
      ],
      "text/plain": [
       "<POLYGON ((90 -90, 90 90, -90 90, -90 -90, 90 -90))>"
      ]
     },
     "execution_count": 22,
     "metadata": {},
     "output_type": "execute_result"
    }
   ],
   "source": [
    "from shapely.geometry import box\n",
    "\n",
    "min_x, min_y = -90, -90\n",
    "max_x, max_y = 90, 90\n",
    "box_poly = box(minx=min_x, miny=min_y, maxx=max_x, maxy=max_y)\n",
    "box_poly"
   ]
  },
  {
   "cell_type": "code",
   "execution_count": 23,
   "id": "7c4b6f50-12cc-4e4e-b109-05fd8181e2a4",
   "metadata": {},
   "outputs": [
    {
     "data": {
      "image/svg+xml": [
       "<svg xmlns=\"http://www.w3.org/2000/svg\" xmlns:xlink=\"http://www.w3.org/1999/xlink\" width=\"100.0\" height=\"100.0\" viewBox=\"0.6799999999999999 -1.32 3.6400000000000006 8.64\" preserveAspectRatio=\"xMinYMin meet\"><g transform=\"matrix(1,0,0,-1,0,6.0)\"><path fill-rule=\"evenodd\" fill=\"#66cc99\" stroke=\"#555555\" stroke-width=\"0.1728\" opacity=\"0.6\" d=\"M 1.0,3.0 L 4.0,7.0 L 2.0,-1.0 L 1.0,3.0 z\" /></g></svg>"
      ],
      "text/plain": [
       "<POLYGON ((1 3, 4 7, 2 -1, 1 3))>"
      ]
     },
     "execution_count": 23,
     "metadata": {},
     "output_type": "execute_result"
    }
   ],
   "source": [
    "from shapely import Polygon\n",
    "point1=(1,3)\n",
    "point2=(4,7)\n",
    "point3=(2,-1)\n",
    "poly = Polygon([point1, point2, point3])\n",
    "poly"
   ]
  },
  {
   "cell_type": "code",
   "execution_count": 31,
   "id": "06f963e1-3871-41b3-b828-8b406ab31322",
   "metadata": {},
   "outputs": [
    {
     "data": {
      "image/svg+xml": [
       "<svg xmlns=\"http://www.w3.org/2000/svg\" xmlns:xlink=\"http://www.w3.org/1999/xlink\" width=\"100.0\" height=\"100.0\" viewBox=\"-16.2 -16.2 32.4 32.4\" preserveAspectRatio=\"xMinYMin meet\"><g transform=\"matrix(1,0,0,-1,0,0.0)\"><path fill-rule=\"evenodd\" fill=\"#66cc99\" stroke=\"#555555\" stroke-width=\"0.648\" opacity=\"0.6\" d=\"M 15.0,0.0 L 14.927770900082955,-1.470257104943409 L 14.711779206048456,-2.9263548302419236 L 14.354105035983132,-4.354270158816935 L 13.858192987669302,-5.740251485476347 L 13.228818965225326,-7.070951052389964 L 12.472044184538179,-8.333553495294034 L 11.595156800441055,-9.515899262454683 L 10.606601717798213,-10.606601717798213 L 9.515899262454683,-11.595156800441053 L 8.333553495294034,-12.472044184538179 L 7.070951052389967,-13.228818965225324 L 5.740251485476348,-13.858192987669302 L 4.354270158816935,-14.354105035983133 L 2.926354830241925,-14.711779206048456 L 1.4702571049434114,-14.927770900082953 L 0.0,-15.0 L -1.4702571049434097,-14.927770900082955 L -2.926354830241923,-14.711779206048456 L -4.354270158816933,-14.354105035983133 L -5.740251485476346,-13.858192987669302 L -7.070951052389965,-13.228818965225326 L -8.33355349529403,-12.47204418453818 L -9.515899262454681,-11.595156800441057 L -10.606601717798211,-10.606601717798213 L -11.595156800441055,-9.515899262454683 L -12.47204418453818,-8.333553495294034 L -13.228818965225324,-7.070951052389967 L -13.858192987669302,-5.740251485476349 L -14.354105035983132,-4.354270158816936 L -14.711779206048456,-2.9263548302419293 L -14.927770900082953,-1.4702571049434123 L -15.0,0.0 L -14.927770900082955,1.4702571049434088 L -14.711779206048456,2.9263548302419253 L -14.354105035983133,4.354270158816932 L -13.858192987669304,5.740251485476345 L -13.228818965225326,7.070951052389964 L -12.472044184538182,8.33355349529403 L -11.595156800441057,9.51589926245468 L -10.606601717798215,10.606601717798211 L -9.515899262454688,11.59515680044105 L -8.333553495294034,12.472044184538179 L -7.070951052389968,13.228818965225324 L -5.740251485476355,13.858192987669298 L -4.354270158816937,14.354105035983132 L -2.9263548302419298,14.711779206048455 L -1.4702571049434068,14.927770900082955 L 0.0,15.0 L 1.4702571049434014,14.927770900082955 L 2.9263548302419244,14.711779206048456 L 4.354270158816931,14.354105035983133 L 5.7402514854763504,13.8581929876693 L 7.0709510523899635,13.228818965225326 L 8.333553495294028,12.472044184538182 L 9.515899262454685,11.595156800441053 L 10.60660171779821,10.606601717798215 L 11.595156800441048,9.515899262454688 L 12.472044184538179,8.333553495294034 L 13.228818965225322,7.070951052389969 L 13.858192987669298,5.740251485476356 L 14.354105035983132,4.354270158816938 L 14.711779206048455,2.9263548302419307 L 14.927770900082955,1.4702571049434077 L 15.0,0.0 z\" /></g></svg>"
      ],
      "text/plain": [
       "<POLYGON ((15 0, 14.928 -1.47, 14.712 -2.926, 14.354 -4.354, 13.858 -5.74, 1...>"
      ]
     },
     "execution_count": 31,
     "metadata": {},
     "output_type": "execute_result"
    }
   ],
   "source": [
    "from shapely.geometry import Point\n",
    "\n",
    "\n",
    "circle = Point(0, 0).buffer(15)\n",
    "circle\n"
   ]
  },
  {
   "cell_type": "code",
   "execution_count": 32,
   "id": "44030b9c-410b-4526-b8e5-95b5a3246300",
   "metadata": {},
   "outputs": [
    {
     "name": "stdout",
     "output_type": "stream",
     "text": [
      "_data\\Austin\\austin_pop_2019.gpkg\n"
     ]
    }
   ],
   "source": [
    "from pathlib import Path\n",
    "\n",
    "data_folder = Path(\"_data\", \"Austin\")\n",
    "fp = data_folder / \"austin_pop_2019.gpkg\"\n",
    "print(fp)"
   ]
  },
  {
   "cell_type": "code",
   "execution_count": 35,
   "id": "db0a3196-2c09-4a92-aff0-3690a34bf8f3",
   "metadata": {},
   "outputs": [],
   "source": [
    "import geopandas as gpd\n",
    "\n",
    "data = gpd.read_file(fp)"
   ]
  },
  {
   "cell_type": "code",
   "execution_count": 36,
   "id": "4e500708-a7eb-4c29-8109-5c1ce203b349",
   "metadata": {},
   "outputs": [
    {
     "data": {
      "text/plain": [
       "geopandas.geodataframe.GeoDataFrame"
      ]
     },
     "execution_count": 36,
     "metadata": {},
     "output_type": "execute_result"
    }
   ],
   "source": [
    "type(data)"
   ]
  },
  {
   "cell_type": "code",
   "execution_count": 37,
   "id": "130b4dc0-8ea1-4a30-ac9c-c1cac736ac51",
   "metadata": {},
   "outputs": [
    {
     "data": {
      "text/html": [
       "<div>\n",
       "<style scoped>\n",
       "    .dataframe tbody tr th:only-of-type {\n",
       "        vertical-align: middle;\n",
       "    }\n",
       "\n",
       "    .dataframe tbody tr th {\n",
       "        vertical-align: top;\n",
       "    }\n",
       "\n",
       "    .dataframe thead th {\n",
       "        text-align: right;\n",
       "    }\n",
       "</style>\n",
       "<table border=\"1\" class=\"dataframe\">\n",
       "  <thead>\n",
       "    <tr style=\"text-align: right;\">\n",
       "      <th></th>\n",
       "      <th>pop2019</th>\n",
       "      <th>tract</th>\n",
       "      <th>geometry</th>\n",
       "    </tr>\n",
       "  </thead>\n",
       "  <tbody>\n",
       "    <tr>\n",
       "      <th>0</th>\n",
       "      <td>6070.0</td>\n",
       "      <td>002422</td>\n",
       "      <td>POLYGON ((615643.487 3338728.496, 615645.477 3...</td>\n",
       "    </tr>\n",
       "    <tr>\n",
       "      <th>1</th>\n",
       "      <td>2203.0</td>\n",
       "      <td>001751</td>\n",
       "      <td>POLYGON ((618576.586 3359381.053, 618614.33 33...</td>\n",
       "    </tr>\n",
       "    <tr>\n",
       "      <th>2</th>\n",
       "      <td>7419.0</td>\n",
       "      <td>002411</td>\n",
       "      <td>POLYGON ((619200.163 3341784.654, 619270.849 3...</td>\n",
       "    </tr>\n",
       "    <tr>\n",
       "      <th>3</th>\n",
       "      <td>4229.0</td>\n",
       "      <td>000401</td>\n",
       "      <td>POLYGON ((621623.757 3350508.165, 621656.294 3...</td>\n",
       "    </tr>\n",
       "    <tr>\n",
       "      <th>4</th>\n",
       "      <td>4589.0</td>\n",
       "      <td>002313</td>\n",
       "      <td>POLYGON ((621630.247 3345130.744, 621717.926 3...</td>\n",
       "    </tr>\n",
       "  </tbody>\n",
       "</table>\n",
       "</div>"
      ],
      "text/plain": [
       "   pop2019   tract                                           geometry\n",
       "0   6070.0  002422  POLYGON ((615643.487 3338728.496, 615645.477 3...\n",
       "1   2203.0  001751  POLYGON ((618576.586 3359381.053, 618614.33 33...\n",
       "2   7419.0  002411  POLYGON ((619200.163 3341784.654, 619270.849 3...\n",
       "3   4229.0  000401  POLYGON ((621623.757 3350508.165, 621656.294 3...\n",
       "4   4589.0  002313  POLYGON ((621630.247 3345130.744, 621717.926 3..."
      ]
     },
     "execution_count": 37,
     "metadata": {},
     "output_type": "execute_result"
    }
   ],
   "source": [
    "data.head()"
   ]
  },
  {
   "cell_type": "code",
   "execution_count": 39,
   "id": "2ea89fe8-626d-4960-89d1-7e5d9722546a",
   "metadata": {},
   "outputs": [
    {
     "data": {
      "text/plain": [
       "<Axes: >"
      ]
     },
     "execution_count": 39,
     "metadata": {},
     "output_type": "execute_result"
    },
    {
     "data": {
      "image/png": "[encoded data removed]",
      "text/plain": [
       "<Figure size 640x480 with 1 Axes>"
      ]
     },
     "metadata": {},
     "output_type": "display_data"
    }
   ],
   "source": [
    "data.plot()"
   ]
  },
  {
   "cell_type": "code",
   "execution_count": 47,
   "id": "28416fab-5692-45bf-aca3-1791c7b4f792",
   "metadata": {},
   "outputs": [
    {
     "data": {
      "text/plain": [
       "130"
      ]
     },
     "execution_count": 47,
     "metadata": {},
     "output_type": "execute_result"
    }
   ],
   "source": [
    "len(data)"
   ]
  },
  {
   "cell_type": "code",
   "execution_count": 52,
   "id": "b64f48c1-1959-485b-9e68-fc4e907dae34",
   "metadata": {},
   "outputs": [
    {
     "name": "stdout",
     "output_type": "stream",
     "text": [
      "<bound method IndexOpsMixin.nunique of 0      002422\n",
      "1      001751\n",
      "2      002411\n",
      "3      000401\n",
      "4      002313\n",
      "        ...  \n",
      "125    001812\n",
      "126    002312\n",
      "127    002112\n",
      "128    002110\n",
      "129    002113\n",
      "Name: tract, Length: 130, dtype: object>\n"
     ]
    }
   ],
   "source": [
    "number_of_centrus=data['tract'].nunique\n",
    "print(number_of_centrus)\n"
   ]
  },
  {
   "cell_type": "code",
   "execution_count": 57,
   "id": "ea04d85e-2394-4c06-b537-ab47d31bb0b8",
   "metadata": {},
   "outputs": [
    {
     "name": "stdout",
     "output_type": "stream",
     "text": [
      "611935.0\n"
     ]
    }
   ],
   "source": [
    "total_pop=data['pop2019'].sum()\n",
    "print(total_pop)"
   ]
  },
  {
   "cell_type": "code",
   "execution_count": 40,
   "id": "7f652e01-c79c-4871-8dbb-0b99db08414a",
   "metadata": {},
   "outputs": [
    {
     "data": {
      "text/plain": [
       "0    POLYGON ((615643.487 3338728.496, 615645.477 3...\n",
       "1    POLYGON ((618576.586 3359381.053, 618614.33 33...\n",
       "2    POLYGON ((619200.163 3341784.654, 619270.849 3...\n",
       "3    POLYGON ((621623.757 3350508.165, 621656.294 3...\n",
       "4    POLYGON ((621630.247 3345130.744, 621717.926 3...\n",
       "Name: geometry, dtype: geometry"
      ]
     },
     "execution_count": 40,
     "metadata": {},
     "output_type": "execute_result"
    }
   ],
   "source": [
    "data.geometry.head()"
   ]
  },
  {
   "cell_type": "code",
   "execution_count": 41,
   "id": "a7407950-81a2-4f7b-bc65-5830239c0d12",
   "metadata": {},
   "outputs": [
    {
     "data": {
      "text/plain": [
       "geopandas.geoseries.GeoSeries"
      ]
     },
     "execution_count": 41,
     "metadata": {},
     "output_type": "execute_result"
    }
   ],
   "source": [
    "type(data.geometry)"
   ]
  },
  {
   "cell_type": "code",
   "execution_count": 42,
   "id": "62b3ab46-49ac-4e10-8eb6-7ecd5887a492",
   "metadata": {},
   "outputs": [
    {
     "data": {
      "text/plain": [
       "0      4.029772e+06\n",
       "1      1.532030e+06\n",
       "2      3.960344e+06\n",
       "3      2.181762e+06\n",
       "4      2.431208e+06\n",
       "           ...     \n",
       "125    2.321182e+06\n",
       "126    4.388407e+06\n",
       "127    1.702764e+06\n",
       "128    3.540893e+06\n",
       "129    2.054702e+06\n",
       "Length: 130, dtype: float64"
      ]
     },
     "execution_count": 42,
     "metadata": {},
     "output_type": "execute_result"
    }
   ],
   "source": [
    "data.geometry.area"
   ]
  },
  {
   "cell_type": "code",
   "execution_count": 43,
   "id": "698de3e1-a35f-4161-8b4c-48cfe021a4ab",
   "metadata": {},
   "outputs": [
    {
     "data": {
      "text/html": [
       "<div>\n",
       "<style scoped>\n",
       "    .dataframe tbody tr th:only-of-type {\n",
       "        vertical-align: middle;\n",
       "    }\n",
       "\n",
       "    .dataframe tbody tr th {\n",
       "        vertical-align: top;\n",
       "    }\n",
       "\n",
       "    .dataframe thead th {\n",
       "        text-align: right;\n",
       "    }\n",
       "</style>\n",
       "<table border=\"1\" class=\"dataframe\">\n",
       "  <thead>\n",
       "    <tr style=\"text-align: right;\">\n",
       "      <th></th>\n",
       "      <th>pop2019</th>\n",
       "      <th>tract</th>\n",
       "      <th>geometry</th>\n",
       "      <th>area_km2</th>\n",
       "    </tr>\n",
       "  </thead>\n",
       "  <tbody>\n",
       "    <tr>\n",
       "      <th>0</th>\n",
       "      <td>6070.0</td>\n",
       "      <td>002422</td>\n",
       "      <td>POLYGON ((615643.487 3338728.496, 615645.477 3...</td>\n",
       "      <td>4.029772</td>\n",
       "    </tr>\n",
       "    <tr>\n",
       "      <th>1</th>\n",
       "      <td>2203.0</td>\n",
       "      <td>001751</td>\n",
       "      <td>POLYGON ((618576.586 3359381.053, 618614.33 33...</td>\n",
       "      <td>1.532030</td>\n",
       "    </tr>\n",
       "    <tr>\n",
       "      <th>2</th>\n",
       "      <td>7419.0</td>\n",
       "      <td>002411</td>\n",
       "      <td>POLYGON ((619200.163 3341784.654, 619270.849 3...</td>\n",
       "      <td>3.960344</td>\n",
       "    </tr>\n",
       "    <tr>\n",
       "      <th>3</th>\n",
       "      <td>4229.0</td>\n",
       "      <td>000401</td>\n",
       "      <td>POLYGON ((621623.757 3350508.165, 621656.294 3...</td>\n",
       "      <td>2.181762</td>\n",
       "    </tr>\n",
       "    <tr>\n",
       "      <th>4</th>\n",
       "      <td>4589.0</td>\n",
       "      <td>002313</td>\n",
       "      <td>POLYGON ((621630.247 3345130.744, 621717.926 3...</td>\n",
       "      <td>2.431208</td>\n",
       "    </tr>\n",
       "  </tbody>\n",
       "</table>\n",
       "</div>"
      ],
      "text/plain": [
       "   pop2019   tract                                           geometry  \\\n",
       "0   6070.0  002422  POLYGON ((615643.487 3338728.496, 615645.477 3...   \n",
       "1   2203.0  001751  POLYGON ((618576.586 3359381.053, 618614.33 33...   \n",
       "2   7419.0  002411  POLYGON ((619200.163 3341784.654, 619270.849 3...   \n",
       "3   4229.0  000401  POLYGON ((621623.757 3350508.165, 621656.294 3...   \n",
       "4   4589.0  002313  POLYGON ((621630.247 3345130.744, 621717.926 3...   \n",
       "\n",
       "   area_km2  \n",
       "0  4.029772  \n",
       "1  1.532030  \n",
       "2  3.960344  \n",
       "3  2.181762  \n",
       "4  2.431208  "
      ]
     },
     "execution_count": 43,
     "metadata": {},
     "output_type": "execute_result"
    }
   ],
   "source": [
    "data[\"area_km2\"] = data.area / 1000000\n",
    "data.head()"
   ]
  },
  {
   "cell_type": "code",
   "execution_count": 44,
   "id": "5c57588f-938d-4caf-ab97-dba0d7b0a541",
   "metadata": {},
   "outputs": [
    {
     "data": {
      "text/plain": [
       "<Axes: >"
      ]
     },
     "execution_count": 44,
     "metadata": {},
     "output_type": "execute_result"
    },
    {
     "data": {
      "image/png": "[encoded data removed]",
      "text/plain": [
       "<Figure size 640x480 with 1 Axes>"
      ]
     },
     "metadata": {},
     "output_type": "display_data"
    }
   ],
   "source": [
    "data.plot(column=\"area_km2\")"
   ]
  },
  {
   "cell_type": "code",
   "execution_count": 58,
   "id": "30f4747a-1e52-4706-af94-6c4bde1c5765",
   "metadata": {},
   "outputs": [
    {
     "name": "stdout",
     "output_type": "stream",
     "text": [
      "Average population density in 2019: 2396.9319576508337\n",
      "Maximum population density per census tract: 11323.842142217982\n"
     ]
    }
   ],
   "source": [
    "data[\"pop_density_km2\"] = data[\"pop2019\"] / data[\"area_km2\"]\n",
    "\n",
    "avg_density = data[\"pop_density_km2\"].mean()\n",
    "\n",
    "max_density = data[\"pop_density_km2\"].max()\n",
    "\n",
    "print(\"Average population density in 2019:\", avg_density)\n",
    "print(\"Maximum population density per census tract:\", max_density)"
   ]
  },
  {
   "cell_type": "code",
   "execution_count": 45,
   "id": "b24d0cb6-fe67-4770-9a6c-e88154da25d5",
   "metadata": {},
   "outputs": [
    {
     "data": {
      "text/html": [
       "<div>\n",
       "<style scoped>\n",
       "    .dataframe tbody tr th:only-of-type {\n",
       "        vertical-align: middle;\n",
       "    }\n",
       "\n",
       "    .dataframe tbody tr th {\n",
       "        vertical-align: top;\n",
       "    }\n",
       "\n",
       "    .dataframe thead th {\n",
       "        text-align: right;\n",
       "    }\n",
       "</style>\n",
       "<table border=\"1\" class=\"dataframe\">\n",
       "  <thead>\n",
       "    <tr style=\"text-align: right;\">\n",
       "      <th></th>\n",
       "      <th>pop2019</th>\n",
       "      <th>tract</th>\n",
       "      <th>geometry</th>\n",
       "      <th>area_km2</th>\n",
       "    </tr>\n",
       "  </thead>\n",
       "  <tbody>\n",
       "    <tr>\n",
       "      <th>0</th>\n",
       "      <td>6070.0</td>\n",
       "      <td>002422</td>\n",
       "      <td>POLYGON ((615643.487 3338728.496, 615645.477 3...</td>\n",
       "      <td>4.029772</td>\n",
       "    </tr>\n",
       "    <tr>\n",
       "      <th>1</th>\n",
       "      <td>2203.0</td>\n",
       "      <td>001751</td>\n",
       "      <td>POLYGON ((618576.586 3359381.053, 618614.33 33...</td>\n",
       "      <td>1.532030</td>\n",
       "    </tr>\n",
       "    <tr>\n",
       "      <th>2</th>\n",
       "      <td>7419.0</td>\n",
       "      <td>002411</td>\n",
       "      <td>POLYGON ((619200.163 3341784.654, 619270.849 3...</td>\n",
       "      <td>3.960344</td>\n",
       "    </tr>\n",
       "    <tr>\n",
       "      <th>3</th>\n",
       "      <td>4229.0</td>\n",
       "      <td>000401</td>\n",
       "      <td>POLYGON ((621623.757 3350508.165, 621656.294 3...</td>\n",
       "      <td>2.181762</td>\n",
       "    </tr>\n",
       "    <tr>\n",
       "      <th>4</th>\n",
       "      <td>4589.0</td>\n",
       "      <td>002313</td>\n",
       "      <td>POLYGON ((621630.247 3345130.744, 621717.926 3...</td>\n",
       "      <td>2.431208</td>\n",
       "    </tr>\n",
       "  </tbody>\n",
       "</table>\n",
       "</div>"
      ],
      "text/plain": [
       "   pop2019   tract                                           geometry  \\\n",
       "0   6070.0  002422  POLYGON ((615643.487 3338728.496, 615645.477 3...   \n",
       "1   2203.0  001751  POLYGON ((618576.586 3359381.053, 618614.33 33...   \n",
       "2   7419.0  002411  POLYGON ((619200.163 3341784.654, 619270.849 3...   \n",
       "3   4229.0  000401  POLYGON ((621623.757 3350508.165, 621656.294 3...   \n",
       "4   4589.0  002313  POLYGON ((621630.247 3345130.744, 621717.926 3...   \n",
       "\n",
       "   area_km2  \n",
       "0  4.029772  \n",
       "1  1.532030  \n",
       "2  3.960344  \n",
       "3  2.181762  \n",
       "4  2.431208  "
      ]
     },
     "execution_count": 45,
     "metadata": {},
     "output_type": "execute_result"
    }
   ],
   "source": [
    "data.head()"
   ]
  },
  {
   "cell_type": "code",
   "execution_count": 59,
   "id": "dab6c522-ce41-45f9-b74a-2f236d7c3e1f",
   "metadata": {},
   "outputs": [],
   "source": [
    "# Create a output path for the data\n",
    "output_fp = \"_data/austin_pop_density_2019.gpkg\"\n",
    "\n",
    "# Write the file\n",
    "data.to_file(output_fp)"
   ]
  },
  {
   "cell_type": "code",
   "execution_count": 60,
   "id": "8c7bf4d1-0865-42dc-9e67-3117f98e4052",
   "metadata": {},
   "outputs": [],
   "source": [
    "output_fp = \"_data/austin_pop_density_2019.fgb\"\n",
    "\n",
    "# Write the file\n",
    "data.to_file(output_fp, driver=\"FlatGeobuf\")"
   ]
  },
  {
   "cell_type": "code",
   "execution_count": 64,
   "id": "979c522d-036d-45b7-8e46-9dac14cd0909",
   "metadata": {},
   "outputs": [
    {
     "ename": "UnicodeDecodeError",
     "evalue": "'utf-8' codec can't decode byte 0x82 in position 72: invalid start byte",
     "output_type": "error",
     "traceback": [
      "\u001b[31m---------------------------------------------------------------------------\u001b[39m",
      "\u001b[31mUnicodeDecodeError\u001b[39m                        Traceback (most recent call last)",
      "\u001b[36mCell\u001b[39m\u001b[36m \u001b[39m\u001b[32mIn[64]\u001b[39m\u001b[32m, line 2\u001b[39m\n\u001b[32m      1\u001b[39m \u001b[38;5;28;01mimport\u001b[39;00m\u001b[38;5;250m \u001b[39m\u001b[34;01mpandas\u001b[39;00m\u001b[38;5;250m \u001b[39m\u001b[38;5;28;01mas\u001b[39;00m\u001b[38;5;250m \u001b[39m\u001b[34;01mpd\u001b[39;00m\n\u001b[32m----> \u001b[39m\u001b[32m2\u001b[39m td=\u001b[43mpd\u001b[49m\u001b[43m.\u001b[49m\u001b[43mread_csv\u001b[49m\u001b[43m(\u001b[49m\u001b[33;43m\"\u001b[39;49m\u001b[33;43m_data/austin_pop_density_2019.fgb\u001b[39;49m\u001b[33;43m\"\u001b[39;49m\u001b[43m)\u001b[49m\n",
      "\u001b[36mFile \u001b[39m\u001b[32m~\\Desktop\\bigdata\\.venv\\Lib\\site-packages\\pandas\\io\\parsers\\readers.py:1026\u001b[39m, in \u001b[36mread_csv\u001b[39m\u001b[34m(filepath_or_buffer, sep, delimiter, header, names, index_col, usecols, dtype, engine, converters, true_values, false_values, skipinitialspace, skiprows, skipfooter, nrows, na_values, keep_default_na, na_filter, verbose, skip_blank_lines, parse_dates, infer_datetime_format, keep_date_col, date_parser, date_format, dayfirst, cache_dates, iterator, chunksize, compression, thousands, decimal, lineterminator, quotechar, quoting, doublequote, escapechar, comment, encoding, encoding_errors, dialect, on_bad_lines, delim_whitespace, low_memory, memory_map, float_precision, storage_options, dtype_backend)\u001b[39m\n\u001b[32m   1013\u001b[39m kwds_defaults = _refine_defaults_read(\n\u001b[32m   1014\u001b[39m     dialect,\n\u001b[32m   1015\u001b[39m     delimiter,\n\u001b[32m   (...)\u001b[39m\u001b[32m   1022\u001b[39m     dtype_backend=dtype_backend,\n\u001b[32m   1023\u001b[39m )\n\u001b[32m   1024\u001b[39m kwds.update(kwds_defaults)\n\u001b[32m-> \u001b[39m\u001b[32m1026\u001b[39m \u001b[38;5;28;01mreturn\u001b[39;00m \u001b[43m_read\u001b[49m\u001b[43m(\u001b[49m\u001b[43mfilepath_or_buffer\u001b[49m\u001b[43m,\u001b[49m\u001b[43m \u001b[49m\u001b[43mkwds\u001b[49m\u001b[43m)\u001b[49m\n",
      "\u001b[36mFile \u001b[39m\u001b[32m~\\Desktop\\bigdata\\.venv\\Lib\\site-packages\\pandas\\io\\parsers\\readers.py:620\u001b[39m, in \u001b[36m_read\u001b[39m\u001b[34m(filepath_or_buffer, kwds)\u001b[39m\n\u001b[32m    617\u001b[39m _validate_names(kwds.get(\u001b[33m\"\u001b[39m\u001b[33mnames\u001b[39m\u001b[33m\"\u001b[39m, \u001b[38;5;28;01mNone\u001b[39;00m))\n\u001b[32m    619\u001b[39m \u001b[38;5;66;03m# Create the parser.\u001b[39;00m\n\u001b[32m--> \u001b[39m\u001b[32m620\u001b[39m parser = \u001b[43mTextFileReader\u001b[49m\u001b[43m(\u001b[49m\u001b[43mfilepath_or_buffer\u001b[49m\u001b[43m,\u001b[49m\u001b[43m \u001b[49m\u001b[43m*\u001b[49m\u001b[43m*\u001b[49m\u001b[43mkwds\u001b[49m\u001b[43m)\u001b[49m\n\u001b[32m    622\u001b[39m \u001b[38;5;28;01mif\u001b[39;00m chunksize \u001b[38;5;129;01mor\u001b[39;00m iterator:\n\u001b[32m    623\u001b[39m     \u001b[38;5;28;01mreturn\u001b[39;00m parser\n",
      "\u001b[36mFile \u001b[39m\u001b[32m~\\Desktop\\bigdata\\.venv\\Lib\\site-packages\\pandas\\io\\parsers\\readers.py:1620\u001b[39m, in \u001b[36mTextFileReader.__init__\u001b[39m\u001b[34m(self, f, engine, **kwds)\u001b[39m\n\u001b[32m   1617\u001b[39m     \u001b[38;5;28mself\u001b[39m.options[\u001b[33m\"\u001b[39m\u001b[33mhas_index_names\u001b[39m\u001b[33m\"\u001b[39m] = kwds[\u001b[33m\"\u001b[39m\u001b[33mhas_index_names\u001b[39m\u001b[33m\"\u001b[39m]\n\u001b[32m   1619\u001b[39m \u001b[38;5;28mself\u001b[39m.handles: IOHandles | \u001b[38;5;28;01mNone\u001b[39;00m = \u001b[38;5;28;01mNone\u001b[39;00m\n\u001b[32m-> \u001b[39m\u001b[32m1620\u001b[39m \u001b[38;5;28mself\u001b[39m._engine = \u001b[38;5;28;43mself\u001b[39;49m\u001b[43m.\u001b[49m\u001b[43m_make_engine\u001b[49m\u001b[43m(\u001b[49m\u001b[43mf\u001b[49m\u001b[43m,\u001b[49m\u001b[43m \u001b[49m\u001b[38;5;28;43mself\u001b[39;49m\u001b[43m.\u001b[49m\u001b[43mengine\u001b[49m\u001b[43m)\u001b[49m\n",
      "\u001b[36mFile \u001b[39m\u001b[32m~\\Desktop\\bigdata\\.venv\\Lib\\site-packages\\pandas\\io\\parsers\\readers.py:1898\u001b[39m, in \u001b[36mTextFileReader._make_engine\u001b[39m\u001b[34m(self, f, engine)\u001b[39m\n\u001b[32m   1895\u001b[39m     \u001b[38;5;28;01mraise\u001b[39;00m \u001b[38;5;167;01mValueError\u001b[39;00m(msg)\n\u001b[32m   1897\u001b[39m \u001b[38;5;28;01mtry\u001b[39;00m:\n\u001b[32m-> \u001b[39m\u001b[32m1898\u001b[39m     \u001b[38;5;28;01mreturn\u001b[39;00m \u001b[43mmapping\u001b[49m\u001b[43m[\u001b[49m\u001b[43mengine\u001b[49m\u001b[43m]\u001b[49m\u001b[43m(\u001b[49m\u001b[43mf\u001b[49m\u001b[43m,\u001b[49m\u001b[43m \u001b[49m\u001b[43m*\u001b[49m\u001b[43m*\u001b[49m\u001b[38;5;28;43mself\u001b[39;49m\u001b[43m.\u001b[49m\u001b[43moptions\u001b[49m\u001b[43m)\u001b[49m\n\u001b[32m   1899\u001b[39m \u001b[38;5;28;01mexcept\u001b[39;00m \u001b[38;5;167;01mException\u001b[39;00m:\n\u001b[32m   1900\u001b[39m     \u001b[38;5;28;01mif\u001b[39;00m \u001b[38;5;28mself\u001b[39m.handles \u001b[38;5;129;01mis\u001b[39;00m \u001b[38;5;129;01mnot\u001b[39;00m \u001b[38;5;28;01mNone\u001b[39;00m:\n",
      "\u001b[36mFile \u001b[39m\u001b[32m~\\Desktop\\bigdata\\.venv\\Lib\\site-packages\\pandas\\io\\parsers\\c_parser_wrapper.py:93\u001b[39m, in \u001b[36mCParserWrapper.__init__\u001b[39m\u001b[34m(self, src, **kwds)\u001b[39m\n\u001b[32m     90\u001b[39m \u001b[38;5;28;01mif\u001b[39;00m kwds[\u001b[33m\"\u001b[39m\u001b[33mdtype_backend\u001b[39m\u001b[33m\"\u001b[39m] == \u001b[33m\"\u001b[39m\u001b[33mpyarrow\u001b[39m\u001b[33m\"\u001b[39m:\n\u001b[32m     91\u001b[39m     \u001b[38;5;66;03m# Fail here loudly instead of in cython after reading\u001b[39;00m\n\u001b[32m     92\u001b[39m     import_optional_dependency(\u001b[33m\"\u001b[39m\u001b[33mpyarrow\u001b[39m\u001b[33m\"\u001b[39m)\n\u001b[32m---> \u001b[39m\u001b[32m93\u001b[39m \u001b[38;5;28mself\u001b[39m._reader = \u001b[43mparsers\u001b[49m\u001b[43m.\u001b[49m\u001b[43mTextReader\u001b[49m\u001b[43m(\u001b[49m\u001b[43msrc\u001b[49m\u001b[43m,\u001b[49m\u001b[43m \u001b[49m\u001b[43m*\u001b[49m\u001b[43m*\u001b[49m\u001b[43mkwds\u001b[49m\u001b[43m)\u001b[49m\n\u001b[32m     95\u001b[39m \u001b[38;5;28mself\u001b[39m.unnamed_cols = \u001b[38;5;28mself\u001b[39m._reader.unnamed_cols\n\u001b[32m     97\u001b[39m \u001b[38;5;66;03m# error: Cannot determine type of 'names'\u001b[39;00m\n",
      "\u001b[36mFile \u001b[39m\u001b[32mpandas/_libs/parsers.pyx:574\u001b[39m, in \u001b[36mpandas._libs.parsers.TextReader.__cinit__\u001b[39m\u001b[34m()\u001b[39m\n",
      "\u001b[36mFile \u001b[39m\u001b[32mpandas/_libs/parsers.pyx:663\u001b[39m, in \u001b[36mpandas._libs.parsers.TextReader._get_header\u001b[39m\u001b[34m()\u001b[39m\n",
      "\u001b[36mFile \u001b[39m\u001b[32mpandas/_libs/parsers.pyx:874\u001b[39m, in \u001b[36mpandas._libs.parsers.TextReader._tokenize_rows\u001b[39m\u001b[34m()\u001b[39m\n",
      "\u001b[36mFile \u001b[39m\u001b[32mpandas/_libs/parsers.pyx:891\u001b[39m, in \u001b[36mpandas._libs.parsers.TextReader._check_tokenize_status\u001b[39m\u001b[34m()\u001b[39m\n",
      "\u001b[36mFile \u001b[39m\u001b[32mpandas/_libs/parsers.pyx:2053\u001b[39m, in \u001b[36mpandas._libs.parsers.raise_parser_error\u001b[39m\u001b[34m()\u001b[39m\n",
      "\u001b[36mFile \u001b[39m\u001b[32m<frozen codecs>:325\u001b[39m, in \u001b[36mdecode\u001b[39m\u001b[34m(self, input, final)\u001b[39m\n",
      "\u001b[31mUnicodeDecodeError\u001b[39m: 'utf-8' codec can't decode byte 0x82 in position 72: invalid start byte"
     ]
    }
   ],
   "source": [
    "import pandas as pd\n",
    "td=pd.read_csv(\"_data/austin_pop_density_2019.fgb\")"
   ]
  },
  {
   "cell_type": "code",
   "execution_count": 65,
   "id": "3557becd-8412-45eb-955c-37a1faf5ff4a",
   "metadata": {},
   "outputs": [
    {
     "name": "stdout",
     "output_type": "stream",
     "text": [
      "{'PCIDSK': 'rw', 'PDS4': 'rw', 'VICAR': 'rw', 'PDF': 'rw', 'MBTiles': 'rw', 'EEDA': 'r', 'OGCAPI': 'r', 'ESRI Shapefile': 'rw', 'MapInfo File': 'rw', 'UK .NTF': 'r', 'LVBAG': 'r', 'OGR_SDTS': 'r', 'S57': 'rw', 'DGN': 'rw', 'OGR_VRT': 'r', 'Memory': 'rw', 'CSV': 'rw', 'GML': 'rw', 'GPX': 'rw', 'KML': 'rw', 'GeoJSON': 'rw', 'GeoJSONSeq': 'rw', 'ESRIJSON': 'r', 'TopoJSON': 'r', 'OGR_GMT': 'rw', 'GPKG': 'rw', 'SQLite': 'rw', 'WAsP': 'rw', 'OpenFileGDB': 'rw', 'DXF': 'rw', 'FlatGeobuf': 'rw', 'Geoconcept': 'rw', 'GeoRSS': 'rw', 'VFK': 'r', 'PGDUMP': 'rw', 'OSM': 'r', 'GPSBabel': 'rw', 'OGR_PDS': 'r', 'WFS': 'r', 'OAPIF': 'r', 'EDIGEO': 'r', 'SVG': 'r', 'Idrisi': 'r', 'ODS': 'rw', 'XLSX': 'rw', 'Elasticsearch': 'rw', 'Carto': 'rw', 'AmigoCloud': 'rw', 'SXF': 'r', 'Selafin': 'rw', 'JML': 'rw', 'PLSCENES': 'r', 'CSW': 'r', 'VDV': 'rw', 'MVT': 'rw', 'NGW': 'rw', 'MapML': 'rw', 'GTFS': 'r', 'PMTiles': 'rw', 'JSONFG': 'rw', 'MiraMonVector': 'rw', 'TIGER': 'r', 'AVCBin': 'r', 'AVCE00': 'r', 'HTTP': 'r'}\n"
     ]
    },
    {
     "data": {
      "text/plain": [
       "65"
      ]
     },
     "execution_count": 65,
     "metadata": {},
     "output_type": "execute_result"
    }
   ],
   "source": [
    "import geopandas as gpd\n",
    "import pyogrio\n",
    "\n",
    "available_drivers = pyogrio.list_drivers()\n",
    "\n",
    "print(available_drivers)\n",
    "len(available_drivers)"
   ]
  },
  {
   "cell_type": "code",
   "execution_count": 66,
   "id": "5b96ad3e-9bbb-4ca0-87e4-3090c6537325",
   "metadata": {},
   "outputs": [
    {
     "data": {
      "text/html": [
       "<div>\n",
       "<style scoped>\n",
       "    .dataframe tbody tr th:only-of-type {\n",
       "        vertical-align: middle;\n",
       "    }\n",
       "\n",
       "    .dataframe tbody tr th {\n",
       "        vertical-align: top;\n",
       "    }\n",
       "\n",
       "    .dataframe thead th {\n",
       "        text-align: right;\n",
       "    }\n",
       "</style>\n",
       "<table border=\"1\" class=\"dataframe\">\n",
       "  <thead>\n",
       "    <tr style=\"text-align: right;\">\n",
       "      <th></th>\n",
       "      <th>fid</th>\n",
       "      <th>pop2019</th>\n",
       "      <th>tract</th>\n",
       "      <th>geometry</th>\n",
       "    </tr>\n",
       "  </thead>\n",
       "  <tbody>\n",
       "    <tr>\n",
       "      <th>0</th>\n",
       "      <td>1.0</td>\n",
       "      <td>6070.0</td>\n",
       "      <td>002422</td>\n",
       "      <td>POLYGON ((615643.487 3338728.496, 615645.477 3...</td>\n",
       "    </tr>\n",
       "    <tr>\n",
       "      <th>1</th>\n",
       "      <td>2.0</td>\n",
       "      <td>2203.0</td>\n",
       "      <td>001751</td>\n",
       "      <td>POLYGON ((618576.586 3359381.053, 618614.33 33...</td>\n",
       "    </tr>\n",
       "    <tr>\n",
       "      <th>2</th>\n",
       "      <td>3.0</td>\n",
       "      <td>7419.0</td>\n",
       "      <td>002411</td>\n",
       "      <td>POLYGON ((619200.163 3341784.654, 619270.849 3...</td>\n",
       "    </tr>\n",
       "    <tr>\n",
       "      <th>3</th>\n",
       "      <td>4.0</td>\n",
       "      <td>4229.0</td>\n",
       "      <td>000401</td>\n",
       "      <td>POLYGON ((621623.757 3350508.165, 621656.294 3...</td>\n",
       "    </tr>\n",
       "    <tr>\n",
       "      <th>4</th>\n",
       "      <td>5.0</td>\n",
       "      <td>4589.0</td>\n",
       "      <td>002313</td>\n",
       "      <td>POLYGON ((621630.247 3345130.744, 621717.926 3...</td>\n",
       "    </tr>\n",
       "  </tbody>\n",
       "</table>\n",
       "</div>"
      ],
      "text/plain": [
       "   fid  pop2019   tract                                           geometry\n",
       "0  1.0   6070.0  002422  POLYGON ((615643.487 3338728.496, 615645.477 3...\n",
       "1  2.0   2203.0  001751  POLYGON ((618576.586 3359381.053, 618614.33 33...\n",
       "2  3.0   7419.0  002411  POLYGON ((619200.163 3341784.654, 619270.849 3...\n",
       "3  4.0   4229.0  000401  POLYGON ((621623.757 3350508.165, 621656.294 3...\n",
       "4  5.0   4589.0  002313  POLYGON ((621630.247 3345130.744, 621717.926 3..."
      ]
     },
     "execution_count": 66,
     "metadata": {},
     "output_type": "execute_result"
    }
   ],
   "source": [
    "# Read Esri Shapefile\n",
    "fp = data_folder / \"austin_pop_2019.shp\"\n",
    "data = gpd.read_file(fp)\n",
    "data.head()"
   ]
  },
  {
   "cell_type": "code",
   "execution_count": 67,
   "id": "6d0d7df5-29b8-49e4-bb9e-f73d4eb4a178",
   "metadata": {},
   "outputs": [
    {
     "data": {
      "text/html": [
       "<div>\n",
       "<style scoped>\n",
       "    .dataframe tbody tr th:only-of-type {\n",
       "        vertical-align: middle;\n",
       "    }\n",
       "\n",
       "    .dataframe tbody tr th {\n",
       "        vertical-align: top;\n",
       "    }\n",
       "\n",
       "    .dataframe thead th {\n",
       "        text-align: right;\n",
       "    }\n",
       "</style>\n",
       "<table border=\"1\" class=\"dataframe\">\n",
       "  <thead>\n",
       "    <tr style=\"text-align: right;\">\n",
       "      <th></th>\n",
       "      <th>fid</th>\n",
       "      <th>pop2019</th>\n",
       "      <th>tract</th>\n",
       "      <th>geometry</th>\n",
       "    </tr>\n",
       "  </thead>\n",
       "  <tbody>\n",
       "    <tr>\n",
       "      <th>0</th>\n",
       "      <td>1.0</td>\n",
       "      <td>6070.0</td>\n",
       "      <td>002422</td>\n",
       "      <td>POLYGON ((615643.49 3338728.49, 615645.48 3338...</td>\n",
       "    </tr>\n",
       "    <tr>\n",
       "      <th>1</th>\n",
       "      <td>2.0</td>\n",
       "      <td>2203.0</td>\n",
       "      <td>001751</td>\n",
       "      <td>POLYGON ((618576.59 3359381.06, 618614.33 3359...</td>\n",
       "    </tr>\n",
       "    <tr>\n",
       "      <th>2</th>\n",
       "      <td>3.0</td>\n",
       "      <td>7419.0</td>\n",
       "      <td>002411</td>\n",
       "      <td>POLYGON ((619200.16 3341784.65, 619270.85 3341...</td>\n",
       "    </tr>\n",
       "    <tr>\n",
       "      <th>3</th>\n",
       "      <td>4.0</td>\n",
       "      <td>4229.0</td>\n",
       "      <td>000401</td>\n",
       "      <td>POLYGON ((621623.75 3350508.16, 621656.29 3350...</td>\n",
       "    </tr>\n",
       "    <tr>\n",
       "      <th>4</th>\n",
       "      <td>5.0</td>\n",
       "      <td>4589.0</td>\n",
       "      <td>002313</td>\n",
       "      <td>POLYGON ((621630.24 3345130.75, 621717.92 3345...</td>\n",
       "    </tr>\n",
       "  </tbody>\n",
       "</table>\n",
       "</div>"
      ],
      "text/plain": [
       "   fid  pop2019   tract                                           geometry\n",
       "0  1.0   6070.0  002422  POLYGON ((615643.49 3338728.49, 615645.48 3338...\n",
       "1  2.0   2203.0  001751  POLYGON ((618576.59 3359381.06, 618614.33 3359...\n",
       "2  3.0   7419.0  002411  POLYGON ((619200.16 3341784.65, 619270.85 3341...\n",
       "3  4.0   4229.0  000401  POLYGON ((621623.75 3350508.16, 621656.29 3350...\n",
       "4  5.0   4589.0  002313  POLYGON ((621630.24 3345130.75, 621717.92 3345..."
      ]
     },
     "execution_count": 67,
     "metadata": {},
     "output_type": "execute_result"
    }
   ],
   "source": [
    "# Read file from Geopackage\n",
    "fp = data_folder / \"austin_pop_2019.gpkg\"\n",
    "data = gpd.read_file(fp)\n",
    "\n",
    "# Read file from GeoJSON\n",
    "fp = data_folder / \"austin_pop_2019.geojson\"\n",
    "data = gpd.read_file(fp)\n",
    "\n",
    "# Read file from Geodatabase\n",
    "fp = data_folder / \"austin_pop_2019.gdb\"\n",
    "data = gpd.read_file(fp)\n",
    "\n",
    "# Read file from KML\n",
    "fp = \"_data/Austin/austin_pop_2019.kml\"\n",
    "data_kml = gpd.read_file(fp)\n",
    "\n",
    "# Read file from MapInfo TAB\n",
    "fp = data_folder / \"austin_pop_2019.tab\"\n",
    "data = gpd.read_file(fp)\n",
    "\n",
    "data.head()"
   ]
  },
  {
   "cell_type": "code",
   "execution_count": 68,
   "id": "74e63894-b566-4067-b500-8fe022783e52",
   "metadata": {},
   "outputs": [],
   "source": [
    "# Read spesific layer from Geopackage\n",
    "fp = data_folder / \"austin_pop_2019.gpkg\"\n",
    "data = gpd.read_file(fp, layer=\"austin_pop_2019\")"
   ]
  },
  {
   "cell_type": "code",
   "execution_count": 69,
   "id": "31d583a3-0d68-47a2-9d5e-7a3574566135",
   "metadata": {},
   "outputs": [
    {
     "data": {
      "text/html": [
       "<div>\n",
       "<style scoped>\n",
       "    .dataframe tbody tr th:only-of-type {\n",
       "        vertical-align: middle;\n",
       "    }\n",
       "\n",
       "    .dataframe tbody tr th {\n",
       "        vertical-align: top;\n",
       "    }\n",
       "\n",
       "    .dataframe thead th {\n",
       "        text-align: right;\n",
       "    }\n",
       "</style>\n",
       "<table border=\"1\" class=\"dataframe\">\n",
       "  <thead>\n",
       "    <tr style=\"text-align: right;\">\n",
       "      <th></th>\n",
       "      <th>Name</th>\n",
       "      <th>Description</th>\n",
       "      <th>geometry</th>\n",
       "    </tr>\n",
       "  </thead>\n",
       "  <tbody>\n",
       "    <tr>\n",
       "      <th>0</th>\n",
       "      <td></td>\n",
       "      <td></td>\n",
       "      <td>POLYGON Z ((-97.79891 30.17448 0, -97.79888 30...</td>\n",
       "    </tr>\n",
       "    <tr>\n",
       "      <th>1</th>\n",
       "      <td></td>\n",
       "      <td></td>\n",
       "      <td>POLYGON Z ((-97.76612 30.36053 0, -97.76572 30...</td>\n",
       "    </tr>\n",
       "    <tr>\n",
       "      <th>2</th>\n",
       "      <td></td>\n",
       "      <td></td>\n",
       "      <td>POLYGON Z ((-97.76163 30.20171 0, -97.76089 30...</td>\n",
       "    </tr>\n",
       "    <tr>\n",
       "      <th>3</th>\n",
       "      <td></td>\n",
       "      <td></td>\n",
       "      <td>POLYGON Z ((-97.73545 30.28017 0, -97.73511 30...</td>\n",
       "    </tr>\n",
       "    <tr>\n",
       "      <th>4</th>\n",
       "      <td></td>\n",
       "      <td></td>\n",
       "      <td>POLYGON Z ((-97.736 30.23166 0, -97.7351 30.23...</td>\n",
       "    </tr>\n",
       "  </tbody>\n",
       "</table>\n",
       "</div>"
      ],
      "text/plain": [
       "  Name Description                                           geometry\n",
       "0                   POLYGON Z ((-97.79891 30.17448 0, -97.79888 30...\n",
       "1                   POLYGON Z ((-97.76612 30.36053 0, -97.76572 30...\n",
       "2                   POLYGON Z ((-97.76163 30.20171 0, -97.76089 30...\n",
       "3                   POLYGON Z ((-97.73545 30.28017 0, -97.73511 30...\n",
       "4                   POLYGON Z ((-97.736 30.23166 0, -97.7351 30.23..."
      ]
     },
     "execution_count": 69,
     "metadata": {},
     "output_type": "execute_result"
    }
   ],
   "source": [
    "#| echo: true\n",
    "data_kml.head()"
   ]
  },
  {
   "cell_type": "code",
   "execution_count": 70,
   "id": "bb58febe-1c8c-41da-a311-3e2200d360e5",
   "metadata": {},
   "outputs": [
    {
     "ename": "KeyError",
     "evalue": "\"['pop2019', 'tract'] not in index\"",
     "output_type": "error",
     "traceback": [
      "\u001b[31m---------------------------------------------------------------------------\u001b[39m",
      "\u001b[31mKeyError\u001b[39m                                  Traceback (most recent call last)",
      "\u001b[36mCell\u001b[39m\u001b[36m \u001b[39m\u001b[32mIn[70]\u001b[39m\u001b[32m, line 2\u001b[39m\n\u001b[32m      1\u001b[39m \u001b[38;5;66;03m#| echo: true\u001b[39;00m\n\u001b[32m----> \u001b[39m\u001b[32m2\u001b[39m data = \u001b[43mdata_kml\u001b[49m\u001b[43m[\u001b[49m\u001b[43m[\u001b[49m\u001b[33;43m\"\u001b[39;49m\u001b[33;43mpop2019\u001b[39;49m\u001b[33;43m\"\u001b[39;49m\u001b[43m,\u001b[49m\u001b[43m \u001b[49m\u001b[33;43m\"\u001b[39;49m\u001b[33;43mtract\u001b[39;49m\u001b[33;43m\"\u001b[39;49m\u001b[43m,\u001b[49m\u001b[43m \u001b[49m\u001b[33;43m\"\u001b[39;49m\u001b[33;43mgeometry\u001b[39;49m\u001b[33;43m\"\u001b[39;49m\u001b[43m]\u001b[49m\u001b[43m]\u001b[49m.copy()\n\u001b[32m      3\u001b[39m data.head(\u001b[32m2\u001b[39m)\n",
      "\u001b[36mFile \u001b[39m\u001b[32m~\\Desktop\\bigdata\\.venv\\Lib\\site-packages\\geopandas\\geodataframe.py:1896\u001b[39m, in \u001b[36mGeoDataFrame.__getitem__\u001b[39m\u001b[34m(self, key)\u001b[39m\n\u001b[32m   1890\u001b[39m \u001b[38;5;28;01mdef\u001b[39;00m\u001b[38;5;250m \u001b[39m\u001b[34m__getitem__\u001b[39m(\u001b[38;5;28mself\u001b[39m, key):\n\u001b[32m   1891\u001b[39m \u001b[38;5;250m    \u001b[39m\u001b[33;03m\"\"\"\u001b[39;00m\n\u001b[32m   1892\u001b[39m \u001b[33;03m    If the result is a column containing only 'geometry', return a\u001b[39;00m\n\u001b[32m   1893\u001b[39m \u001b[33;03m    GeoSeries. If it's a DataFrame with any columns of GeometryDtype,\u001b[39;00m\n\u001b[32m   1894\u001b[39m \u001b[33;03m    return a GeoDataFrame.\u001b[39;00m\n\u001b[32m   1895\u001b[39m \u001b[33;03m    \"\"\"\u001b[39;00m\n\u001b[32m-> \u001b[39m\u001b[32m1896\u001b[39m     result = \u001b[38;5;28;43msuper\u001b[39;49m\u001b[43m(\u001b[49m\u001b[43m)\u001b[49m\u001b[43m.\u001b[49m\u001b[34;43m__getitem__\u001b[39;49m\u001b[43m(\u001b[49m\u001b[43mkey\u001b[49m\u001b[43m)\u001b[49m\n\u001b[32m   1897\u001b[39m     \u001b[38;5;66;03m# Custom logic to avoid waiting for pandas GH51895\u001b[39;00m\n\u001b[32m   1898\u001b[39m     \u001b[38;5;66;03m# result is not geometry dtype for multi-indexes\u001b[39;00m\n\u001b[32m   1899\u001b[39m     \u001b[38;5;28;01mif\u001b[39;00m (\n\u001b[32m   1900\u001b[39m         pd.api.types.is_scalar(key)\n\u001b[32m   1901\u001b[39m         \u001b[38;5;129;01mand\u001b[39;00m key == \u001b[33m\"\u001b[39m\u001b[33m\"\u001b[39m\n\u001b[32m   (...)\u001b[39m\u001b[32m   1904\u001b[39m         \u001b[38;5;129;01mand\u001b[39;00m \u001b[38;5;129;01mnot\u001b[39;00m is_geometry_type(result)\n\u001b[32m   1905\u001b[39m     ):\n",
      "\u001b[36mFile \u001b[39m\u001b[32m~\\Desktop\\bigdata\\.venv\\Lib\\site-packages\\pandas\\core\\frame.py:4119\u001b[39m, in \u001b[36mDataFrame.__getitem__\u001b[39m\u001b[34m(self, key)\u001b[39m\n\u001b[32m   4117\u001b[39m     \u001b[38;5;28;01mif\u001b[39;00m is_iterator(key):\n\u001b[32m   4118\u001b[39m         key = \u001b[38;5;28mlist\u001b[39m(key)\n\u001b[32m-> \u001b[39m\u001b[32m4119\u001b[39m     indexer = \u001b[38;5;28;43mself\u001b[39;49m\u001b[43m.\u001b[49m\u001b[43mcolumns\u001b[49m\u001b[43m.\u001b[49m\u001b[43m_get_indexer_strict\u001b[49m\u001b[43m(\u001b[49m\u001b[43mkey\u001b[49m\u001b[43m,\u001b[49m\u001b[43m \u001b[49m\u001b[33;43m\"\u001b[39;49m\u001b[33;43mcolumns\u001b[39;49m\u001b[33;43m\"\u001b[39;49m\u001b[43m)\u001b[49m[\u001b[32m1\u001b[39m]\n\u001b[32m   4121\u001b[39m \u001b[38;5;66;03m# take() does not accept boolean indexers\u001b[39;00m\n\u001b[32m   4122\u001b[39m \u001b[38;5;28;01mif\u001b[39;00m \u001b[38;5;28mgetattr\u001b[39m(indexer, \u001b[33m\"\u001b[39m\u001b[33mdtype\u001b[39m\u001b[33m\"\u001b[39m, \u001b[38;5;28;01mNone\u001b[39;00m) == \u001b[38;5;28mbool\u001b[39m:\n",
      "\u001b[36mFile \u001b[39m\u001b[32m~\\Desktop\\bigdata\\.venv\\Lib\\site-packages\\pandas\\core\\indexes\\base.py:6212\u001b[39m, in \u001b[36mIndex._get_indexer_strict\u001b[39m\u001b[34m(self, key, axis_name)\u001b[39m\n\u001b[32m   6209\u001b[39m \u001b[38;5;28;01melse\u001b[39;00m:\n\u001b[32m   6210\u001b[39m     keyarr, indexer, new_indexer = \u001b[38;5;28mself\u001b[39m._reindex_non_unique(keyarr)\n\u001b[32m-> \u001b[39m\u001b[32m6212\u001b[39m \u001b[38;5;28;43mself\u001b[39;49m\u001b[43m.\u001b[49m\u001b[43m_raise_if_missing\u001b[49m\u001b[43m(\u001b[49m\u001b[43mkeyarr\u001b[49m\u001b[43m,\u001b[49m\u001b[43m \u001b[49m\u001b[43mindexer\u001b[49m\u001b[43m,\u001b[49m\u001b[43m \u001b[49m\u001b[43maxis_name\u001b[49m\u001b[43m)\u001b[49m\n\u001b[32m   6214\u001b[39m keyarr = \u001b[38;5;28mself\u001b[39m.take(indexer)\n\u001b[32m   6215\u001b[39m \u001b[38;5;28;01mif\u001b[39;00m \u001b[38;5;28misinstance\u001b[39m(key, Index):\n\u001b[32m   6216\u001b[39m     \u001b[38;5;66;03m# GH 42790 - Preserve name from an Index\u001b[39;00m\n",
      "\u001b[36mFile \u001b[39m\u001b[32m~\\Desktop\\bigdata\\.venv\\Lib\\site-packages\\pandas\\core\\indexes\\base.py:6264\u001b[39m, in \u001b[36mIndex._raise_if_missing\u001b[39m\u001b[34m(self, key, indexer, axis_name)\u001b[39m\n\u001b[32m   6261\u001b[39m     \u001b[38;5;28;01mraise\u001b[39;00m \u001b[38;5;167;01mKeyError\u001b[39;00m(\u001b[33mf\u001b[39m\u001b[33m\"\u001b[39m\u001b[33mNone of [\u001b[39m\u001b[38;5;132;01m{\u001b[39;00mkey\u001b[38;5;132;01m}\u001b[39;00m\u001b[33m] are in the [\u001b[39m\u001b[38;5;132;01m{\u001b[39;00maxis_name\u001b[38;5;132;01m}\u001b[39;00m\u001b[33m]\u001b[39m\u001b[33m\"\u001b[39m)\n\u001b[32m   6263\u001b[39m not_found = \u001b[38;5;28mlist\u001b[39m(ensure_index(key)[missing_mask.nonzero()[\u001b[32m0\u001b[39m]].unique())\n\u001b[32m-> \u001b[39m\u001b[32m6264\u001b[39m \u001b[38;5;28;01mraise\u001b[39;00m \u001b[38;5;167;01mKeyError\u001b[39;00m(\u001b[33mf\u001b[39m\u001b[33m\"\u001b[39m\u001b[38;5;132;01m{\u001b[39;00mnot_found\u001b[38;5;132;01m}\u001b[39;00m\u001b[33m not in index\u001b[39m\u001b[33m\"\u001b[39m)\n",
      "\u001b[31mKeyError\u001b[39m: \"['pop2019', 'tract'] not in index\""
     ]
    }
   ],
   "source": [
    "#| echo: true\n",
    "data = data_kml[[\"pop2019\", \"tract\", \"geometry\"]].copy()\n",
    "data.head(2)"
   ]
  },
  {
   "cell_type": "code",
   "execution_count": 72,
   "id": "6fd3c6fd-2d9a-4632-a666-d498c0145015",
   "metadata": {},
   "outputs": [
    {
     "name": "stdout",
     "output_type": "stream",
     "text": [
      "['building_points_helsinki.gpkg']\n"
     ]
    }
   ],
   "source": [
    "from zipfile import ZipFile\n",
    "\n",
    "fp = \"_data/Helsinki/building_points_helsinki.zip\"\n",
    "\n",
    "with ZipFile(fp) as z:\n",
    "    print(z.namelist())"
   ]
  },
  {
   "cell_type": "code",
   "execution_count": 75,
   "id": "d73a4f49-1c81-4f25-8c53-d1d9cfaf5d7b",
   "metadata": {},
   "outputs": [
    {
     "ename": "DataSourceError",
     "evalue": "'/vsizip/_data/Helsinki/Kamppi_layers.zip' not recognized as being in a supported file format.; It might help to specify the correct driver explicitly by prefixing the file path with '<DRIVER>:', e.g. 'CSV:path'.",
     "output_type": "error",
     "traceback": [
      "\u001b[31m---------------------------------------------------------------------------\u001b[39m",
      "\u001b[31mDataSourceError\u001b[39m                           Traceback (most recent call last)",
      "\u001b[36mCell\u001b[39m\u001b[36m \u001b[39m\u001b[32mIn[75]\u001b[39m\u001b[32m, line 1\u001b[39m\n\u001b[32m----> \u001b[39m\u001b[32m1\u001b[39m buildings = \u001b[43mgpd\u001b[49m\u001b[43m.\u001b[49m\u001b[43mread_file\u001b[49m\u001b[43m(\u001b[49m\u001b[43mfp\u001b[49m\u001b[43m)\u001b[49m\n\u001b[32m      2\u001b[39m buildings.head(\u001b[32m2\u001b[39m)\n",
      "\u001b[36mFile \u001b[39m\u001b[32m~\\Desktop\\bigdata\\.venv\\Lib\\site-packages\\geopandas\\io\\file.py:316\u001b[39m, in \u001b[36m_read_file\u001b[39m\u001b[34m(filename, bbox, mask, columns, rows, engine, **kwargs)\u001b[39m\n\u001b[32m    313\u001b[39m             filename = response.read()\n\u001b[32m    315\u001b[39m \u001b[38;5;28;01mif\u001b[39;00m engine == \u001b[33m\"\u001b[39m\u001b[33mpyogrio\u001b[39m\u001b[33m\"\u001b[39m:\n\u001b[32m--> \u001b[39m\u001b[32m316\u001b[39m     \u001b[38;5;28;01mreturn\u001b[39;00m \u001b[43m_read_file_pyogrio\u001b[49m\u001b[43m(\u001b[49m\n\u001b[32m    317\u001b[39m \u001b[43m        \u001b[49m\u001b[43mfilename\u001b[49m\u001b[43m,\u001b[49m\u001b[43m \u001b[49m\u001b[43mbbox\u001b[49m\u001b[43m=\u001b[49m\u001b[43mbbox\u001b[49m\u001b[43m,\u001b[49m\u001b[43m \u001b[49m\u001b[43mmask\u001b[49m\u001b[43m=\u001b[49m\u001b[43mmask\u001b[49m\u001b[43m,\u001b[49m\u001b[43m \u001b[49m\u001b[43mcolumns\u001b[49m\u001b[43m=\u001b[49m\u001b[43mcolumns\u001b[49m\u001b[43m,\u001b[49m\u001b[43m \u001b[49m\u001b[43mrows\u001b[49m\u001b[43m=\u001b[49m\u001b[43mrows\u001b[49m\u001b[43m,\u001b[49m\u001b[43m \u001b[49m\u001b[43m*\u001b[49m\u001b[43m*\u001b[49m\u001b[43mkwargs\u001b[49m\n\u001b[32m    318\u001b[39m \u001b[43m    \u001b[49m\u001b[43m)\u001b[49m\n\u001b[32m    320\u001b[39m \u001b[38;5;28;01melif\u001b[39;00m engine == \u001b[33m\"\u001b[39m\u001b[33mfiona\u001b[39m\u001b[33m\"\u001b[39m:\n\u001b[32m    321\u001b[39m     \u001b[38;5;28;01mif\u001b[39;00m pd.api.types.is_file_like(filename):\n",
      "\u001b[36mFile \u001b[39m\u001b[32m~\\Desktop\\bigdata\\.venv\\Lib\\site-packages\\geopandas\\io\\file.py:576\u001b[39m, in \u001b[36m_read_file_pyogrio\u001b[39m\u001b[34m(path_or_bytes, bbox, mask, rows, **kwargs)\u001b[39m\n\u001b[32m    567\u001b[39m     warnings.warn(\n\u001b[32m    568\u001b[39m         \u001b[33m\"\u001b[39m\u001b[33mThe \u001b[39m\u001b[33m'\u001b[39m\u001b[33minclude_fields\u001b[39m\u001b[33m'\u001b[39m\u001b[33m and \u001b[39m\u001b[33m'\u001b[39m\u001b[33mignore_fields\u001b[39m\u001b[33m'\u001b[39m\u001b[33m keywords are deprecated, and \u001b[39m\u001b[33m\"\u001b[39m\n\u001b[32m    569\u001b[39m         \u001b[33m\"\u001b[39m\u001b[33mwill be removed in a future release. You can use the \u001b[39m\u001b[33m'\u001b[39m\u001b[33mcolumns\u001b[39m\u001b[33m'\u001b[39m\u001b[33m keyword \u001b[39m\u001b[33m\"\u001b[39m\n\u001b[32m   (...)\u001b[39m\u001b[32m    572\u001b[39m         stacklevel=\u001b[32m3\u001b[39m,\n\u001b[32m    573\u001b[39m     )\n\u001b[32m    574\u001b[39m     kwargs[\u001b[33m\"\u001b[39m\u001b[33mcolumns\u001b[39m\u001b[33m\"\u001b[39m] = kwargs.pop(\u001b[33m\"\u001b[39m\u001b[33minclude_fields\u001b[39m\u001b[33m\"\u001b[39m)\n\u001b[32m--> \u001b[39m\u001b[32m576\u001b[39m \u001b[38;5;28;01mreturn\u001b[39;00m \u001b[43mpyogrio\u001b[49m\u001b[43m.\u001b[49m\u001b[43mread_dataframe\u001b[49m\u001b[43m(\u001b[49m\u001b[43mpath_or_bytes\u001b[49m\u001b[43m,\u001b[49m\u001b[43m \u001b[49m\u001b[43mbbox\u001b[49m\u001b[43m=\u001b[49m\u001b[43mbbox\u001b[49m\u001b[43m,\u001b[49m\u001b[43m \u001b[49m\u001b[43m*\u001b[49m\u001b[43m*\u001b[49m\u001b[43mkwargs\u001b[49m\u001b[43m)\u001b[49m\n",
      "\u001b[36mFile \u001b[39m\u001b[32m~\\Desktop\\bigdata\\.venv\\Lib\\site-packages\\pyogrio\\geopandas.py:275\u001b[39m, in \u001b[36mread_dataframe\u001b[39m\u001b[34m(path_or_buffer, layer, encoding, columns, read_geometry, force_2d, skip_features, max_features, where, bbox, mask, fids, sql, sql_dialect, fid_as_index, use_arrow, on_invalid, arrow_to_pandas_kwargs, **kwargs)\u001b[39m\n\u001b[32m    270\u001b[39m \u001b[38;5;28;01mif\u001b[39;00m \u001b[38;5;129;01mnot\u001b[39;00m use_arrow:\n\u001b[32m    271\u001b[39m     \u001b[38;5;66;03m# For arrow, datetimes are read as is.\u001b[39;00m\n\u001b[32m    272\u001b[39m     \u001b[38;5;66;03m# For numpy IO, datetimes are read as string values to preserve timezone info\u001b[39;00m\n\u001b[32m    273\u001b[39m     \u001b[38;5;66;03m# as numpy does not directly support timezones.\u001b[39;00m\n\u001b[32m    274\u001b[39m     kwargs[\u001b[33m\"\u001b[39m\u001b[33mdatetime_as_string\u001b[39m\u001b[33m\"\u001b[39m] = \u001b[38;5;28;01mTrue\u001b[39;00m\n\u001b[32m--> \u001b[39m\u001b[32m275\u001b[39m result = \u001b[43mread_func\u001b[49m\u001b[43m(\u001b[49m\n\u001b[32m    276\u001b[39m \u001b[43m    \u001b[49m\u001b[43mpath_or_buffer\u001b[49m\u001b[43m,\u001b[49m\n\u001b[32m    277\u001b[39m \u001b[43m    \u001b[49m\u001b[43mlayer\u001b[49m\u001b[43m=\u001b[49m\u001b[43mlayer\u001b[49m\u001b[43m,\u001b[49m\n\u001b[32m    278\u001b[39m \u001b[43m    \u001b[49m\u001b[43mencoding\u001b[49m\u001b[43m=\u001b[49m\u001b[43mencoding\u001b[49m\u001b[43m,\u001b[49m\n\u001b[32m    279\u001b[39m \u001b[43m    \u001b[49m\u001b[43mcolumns\u001b[49m\u001b[43m=\u001b[49m\u001b[43mcolumns\u001b[49m\u001b[43m,\u001b[49m\n\u001b[32m    280\u001b[39m \u001b[43m    \u001b[49m\u001b[43mread_geometry\u001b[49m\u001b[43m=\u001b[49m\u001b[43mread_geometry\u001b[49m\u001b[43m,\u001b[49m\n\u001b[32m    281\u001b[39m \u001b[43m    \u001b[49m\u001b[43mforce_2d\u001b[49m\u001b[43m=\u001b[49m\u001b[43mgdal_force_2d\u001b[49m\u001b[43m,\u001b[49m\n\u001b[32m    282\u001b[39m \u001b[43m    \u001b[49m\u001b[43mskip_features\u001b[49m\u001b[43m=\u001b[49m\u001b[43mskip_features\u001b[49m\u001b[43m,\u001b[49m\n\u001b[32m    283\u001b[39m \u001b[43m    \u001b[49m\u001b[43mmax_features\u001b[49m\u001b[43m=\u001b[49m\u001b[43mmax_features\u001b[49m\u001b[43m,\u001b[49m\n\u001b[32m    284\u001b[39m \u001b[43m    \u001b[49m\u001b[43mwhere\u001b[49m\u001b[43m=\u001b[49m\u001b[43mwhere\u001b[49m\u001b[43m,\u001b[49m\n\u001b[32m    285\u001b[39m \u001b[43m    \u001b[49m\u001b[43mbbox\u001b[49m\u001b[43m=\u001b[49m\u001b[43mbbox\u001b[49m\u001b[43m,\u001b[49m\n\u001b[32m    286\u001b[39m \u001b[43m    \u001b[49m\u001b[43mmask\u001b[49m\u001b[43m=\u001b[49m\u001b[43mmask\u001b[49m\u001b[43m,\u001b[49m\n\u001b[32m    287\u001b[39m \u001b[43m    \u001b[49m\u001b[43mfids\u001b[49m\u001b[43m=\u001b[49m\u001b[43mfids\u001b[49m\u001b[43m,\u001b[49m\n\u001b[32m    288\u001b[39m \u001b[43m    \u001b[49m\u001b[43msql\u001b[49m\u001b[43m=\u001b[49m\u001b[43msql\u001b[49m\u001b[43m,\u001b[49m\n\u001b[32m    289\u001b[39m \u001b[43m    \u001b[49m\u001b[43msql_dialect\u001b[49m\u001b[43m=\u001b[49m\u001b[43msql_dialect\u001b[49m\u001b[43m,\u001b[49m\n\u001b[32m    290\u001b[39m \u001b[43m    \u001b[49m\u001b[43mreturn_fids\u001b[49m\u001b[43m=\u001b[49m\u001b[43mfid_as_index\u001b[49m\u001b[43m,\u001b[49m\n\u001b[32m    291\u001b[39m \u001b[43m    \u001b[49m\u001b[43m*\u001b[49m\u001b[43m*\u001b[49m\u001b[43mkwargs\u001b[49m\u001b[43m,\u001b[49m\n\u001b[32m    292\u001b[39m \u001b[43m\u001b[49m\u001b[43m)\u001b[49m\n\u001b[32m    294\u001b[39m \u001b[38;5;28;01mif\u001b[39;00m use_arrow:\n\u001b[32m    295\u001b[39m     \u001b[38;5;28;01mimport\u001b[39;00m\u001b[38;5;250m \u001b[39m\u001b[34;01mpyarrow\u001b[39;00m\u001b[38;5;250m \u001b[39m\u001b[38;5;28;01mas\u001b[39;00m\u001b[38;5;250m \u001b[39m\u001b[34;01mpa\u001b[39;00m\n",
      "\u001b[36mFile \u001b[39m\u001b[32m~\\Desktop\\bigdata\\.venv\\Lib\\site-packages\\pyogrio\\raw.py:198\u001b[39m, in \u001b[36mread\u001b[39m\u001b[34m(path_or_buffer, layer, encoding, columns, read_geometry, force_2d, skip_features, max_features, where, bbox, mask, fids, sql, sql_dialect, return_fids, datetime_as_string, **kwargs)\u001b[39m\n\u001b[32m     59\u001b[39m \u001b[38;5;250m\u001b[39m\u001b[33;03m\"\"\"Read OGR data source into numpy arrays.\u001b[39;00m\n\u001b[32m     60\u001b[39m \n\u001b[32m     61\u001b[39m \u001b[33;03mIMPORTANT: non-linear geometry types (e.g., MultiSurface) are converted\u001b[39;00m\n\u001b[32m   (...)\u001b[39m\u001b[32m    194\u001b[39m \n\u001b[32m    195\u001b[39m \u001b[33;03m\"\"\"\u001b[39;00m\n\u001b[32m    196\u001b[39m dataset_kwargs = _preprocess_options_key_value(kwargs) \u001b[38;5;28;01mif\u001b[39;00m kwargs \u001b[38;5;28;01melse\u001b[39;00m {}\n\u001b[32m--> \u001b[39m\u001b[32m198\u001b[39m \u001b[38;5;28;01mreturn\u001b[39;00m \u001b[43mogr_read\u001b[49m\u001b[43m(\u001b[49m\n\u001b[32m    199\u001b[39m \u001b[43m    \u001b[49m\u001b[43mget_vsi_path_or_buffer\u001b[49m\u001b[43m(\u001b[49m\u001b[43mpath_or_buffer\u001b[49m\u001b[43m)\u001b[49m\u001b[43m,\u001b[49m\n\u001b[32m    200\u001b[39m \u001b[43m    \u001b[49m\u001b[43mlayer\u001b[49m\u001b[43m=\u001b[49m\u001b[43mlayer\u001b[49m\u001b[43m,\u001b[49m\n\u001b[32m    201\u001b[39m \u001b[43m    \u001b[49m\u001b[43mencoding\u001b[49m\u001b[43m=\u001b[49m\u001b[43mencoding\u001b[49m\u001b[43m,\u001b[49m\n\u001b[32m    202\u001b[39m \u001b[43m    \u001b[49m\u001b[43mcolumns\u001b[49m\u001b[43m=\u001b[49m\u001b[43mcolumns\u001b[49m\u001b[43m,\u001b[49m\n\u001b[32m    203\u001b[39m \u001b[43m    \u001b[49m\u001b[43mread_geometry\u001b[49m\u001b[43m=\u001b[49m\u001b[43mread_geometry\u001b[49m\u001b[43m,\u001b[49m\n\u001b[32m    204\u001b[39m \u001b[43m    \u001b[49m\u001b[43mforce_2d\u001b[49m\u001b[43m=\u001b[49m\u001b[43mforce_2d\u001b[49m\u001b[43m,\u001b[49m\n\u001b[32m    205\u001b[39m \u001b[43m    \u001b[49m\u001b[43mskip_features\u001b[49m\u001b[43m=\u001b[49m\u001b[43mskip_features\u001b[49m\u001b[43m,\u001b[49m\n\u001b[32m    206\u001b[39m \u001b[43m    \u001b[49m\u001b[43mmax_features\u001b[49m\u001b[43m=\u001b[49m\u001b[43mmax_features\u001b[49m\u001b[43m \u001b[49m\u001b[38;5;129;43;01mor\u001b[39;49;00m\u001b[43m \u001b[49m\u001b[32;43m0\u001b[39;49m\u001b[43m,\u001b[49m\n\u001b[32m    207\u001b[39m \u001b[43m    \u001b[49m\u001b[43mwhere\u001b[49m\u001b[43m=\u001b[49m\u001b[43mwhere\u001b[49m\u001b[43m,\u001b[49m\n\u001b[32m    208\u001b[39m \u001b[43m    \u001b[49m\u001b[43mbbox\u001b[49m\u001b[43m=\u001b[49m\u001b[43mbbox\u001b[49m\u001b[43m,\u001b[49m\n\u001b[32m    209\u001b[39m \u001b[43m    \u001b[49m\u001b[43mmask\u001b[49m\u001b[43m=\u001b[49m\u001b[43m_mask_to_wkb\u001b[49m\u001b[43m(\u001b[49m\u001b[43mmask\u001b[49m\u001b[43m)\u001b[49m\u001b[43m,\u001b[49m\n\u001b[32m    210\u001b[39m \u001b[43m    \u001b[49m\u001b[43mfids\u001b[49m\u001b[43m=\u001b[49m\u001b[43mfids\u001b[49m\u001b[43m,\u001b[49m\n\u001b[32m    211\u001b[39m \u001b[43m    \u001b[49m\u001b[43msql\u001b[49m\u001b[43m=\u001b[49m\u001b[43msql\u001b[49m\u001b[43m,\u001b[49m\n\u001b[32m    212\u001b[39m \u001b[43m    \u001b[49m\u001b[43msql_dialect\u001b[49m\u001b[43m=\u001b[49m\u001b[43msql_dialect\u001b[49m\u001b[43m,\u001b[49m\n\u001b[32m    213\u001b[39m \u001b[43m    \u001b[49m\u001b[43mreturn_fids\u001b[49m\u001b[43m=\u001b[49m\u001b[43mreturn_fids\u001b[49m\u001b[43m,\u001b[49m\n\u001b[32m    214\u001b[39m \u001b[43m    \u001b[49m\u001b[43mdataset_kwargs\u001b[49m\u001b[43m=\u001b[49m\u001b[43mdataset_kwargs\u001b[49m\u001b[43m,\u001b[49m\n\u001b[32m    215\u001b[39m \u001b[43m    \u001b[49m\u001b[43mdatetime_as_string\u001b[49m\u001b[43m=\u001b[49m\u001b[43mdatetime_as_string\u001b[49m\u001b[43m,\u001b[49m\n\u001b[32m    216\u001b[39m \u001b[43m\u001b[49m\u001b[43m)\u001b[49m\n",
      "\u001b[36mFile \u001b[39m\u001b[32mpyogrio/_io.pyx:1313\u001b[39m, in \u001b[36mpyogrio._io.ogr_read\u001b[39m\u001b[34m()\u001b[39m\n",
      "\u001b[36mFile \u001b[39m\u001b[32mpyogrio/_io.pyx:227\u001b[39m, in \u001b[36mpyogrio._io.ogr_open\u001b[39m\u001b[34m()\u001b[39m\n",
      "\u001b[31mDataSourceError\u001b[39m: '/vsizip/_data/Helsinki/Kamppi_layers.zip' not recognized as being in a supported file format.; It might help to specify the correct driver explicitly by prefixing the file path with '<DRIVER>:', e.g. 'CSV:path'."
     ]
    }
   ],
   "source": [
    "buildings = gpd.read_file(fp)\n",
    "buildings.head(2)"
   ]
  },
  {
   "cell_type": "code",
   "execution_count": 73,
   "id": "d405a2eb-721d-4ed8-a85f-69fd9ac71be1",
   "metadata": {},
   "outputs": [
    {
     "name": "stdout",
     "output_type": "stream",
     "text": [
      "['natural/', 'natural/Kamppi_parks.gpkg', 'built_environment/', 'built_environment/Kamppi_buildings.gpkg', 'built_environment/Kamppi_roads.gpkg']\n"
     ]
    }
   ],
   "source": [
    "fp = \"_data/Helsinki/Kamppi_layers.zip\"\n",
    "\n",
    "with ZipFile(fp) as z:\n",
    "    print(z.namelist())"
   ]
  },
  {
   "cell_type": "code",
   "execution_count": 77,
   "id": "c9fe713e-c180-4441-b34f-5cc415e85c71",
   "metadata": {},
   "outputs": [
    {
     "data": {
      "text/html": [
       "<div>\n",
       "<style scoped>\n",
       "    .dataframe tbody tr th:only-of-type {\n",
       "        vertical-align: middle;\n",
       "    }\n",
       "\n",
       "    .dataframe tbody tr th {\n",
       "        vertical-align: top;\n",
       "    }\n",
       "\n",
       "    .dataframe thead th {\n",
       "        text-align: right;\n",
       "    }\n",
       "</style>\n",
       "<table border=\"1\" class=\"dataframe\">\n",
       "  <thead>\n",
       "    <tr style=\"text-align: right;\">\n",
       "      <th></th>\n",
       "      <th>osmid</th>\n",
       "      <th>leisure</th>\n",
       "      <th>name</th>\n",
       "      <th>geometry</th>\n",
       "    </tr>\n",
       "  </thead>\n",
       "  <tbody>\n",
       "    <tr>\n",
       "      <th>0</th>\n",
       "      <td>8042256</td>\n",
       "      <td>park</td>\n",
       "      <td>Pikkuparlamentin puisto</td>\n",
       "      <td>POLYGON ((385464.223 6672281.159, 385464.274 6...</td>\n",
       "    </tr>\n",
       "    <tr>\n",
       "      <th>1</th>\n",
       "      <td>8042613</td>\n",
       "      <td>park</td>\n",
       "      <td>Simonpuistikko</td>\n",
       "      <td>POLYGON ((385532.543 6672073.355, 385490.887 6...</td>\n",
       "    </tr>\n",
       "  </tbody>\n",
       "</table>\n",
       "</div>"
      ],
      "text/plain": [
       "     osmid leisure                     name  \\\n",
       "0  8042256    park  Pikkuparlamentin puisto   \n",
       "1  8042613    park           Simonpuistikko   \n",
       "\n",
       "                                            geometry  \n",
       "0  POLYGON ((385464.223 6672281.159, 385464.274 6...  \n",
       "1  POLYGON ((385532.543 6672073.355, 385490.887 6...  "
      ]
     },
     "execution_count": 77,
     "metadata": {},
     "output_type": "execute_result"
    }
   ],
   "source": [
    "parks_fp = \"_data/Helsinki/Kamppi_layers.zip!natural/Kamppi_parks.gpkg\"\n",
    "\n",
    "parks = gpd.read_file(parks_fp)\n",
    "parks.head(2)"
   ]
  },
  {
   "cell_type": "code",
   "execution_count": 79,
   "id": "f4ee2d68-eb0f-4e82-b7e9-192ffeecf515",
   "metadata": {},
   "outputs": [
    {
     "data": {
      "text/plain": [
       "<Axes: >"
      ]
     },
     "execution_count": 79,
     "metadata": {},
     "output_type": "execute_result"
    },
    {
     "data": {
      "image/png": "[encoded data removed]",
      "text/plain": [
       "<Figure size 640x480 with 1 Axes>"
      ]
     },
     "metadata": {},
     "output_type": "display_data"
    }
   ],
   "source": [
    "parks.plot()"
   ]
  },
  {
   "cell_type": "code",
   "execution_count": 81,
   "id": "3f4747bd-b6ee-424f-818a-a489d1d3af72",
   "metadata": {},
   "outputs": [],
   "source": [
    "from shapely.geometry import Polygon\n",
    "\n",
    "coordinates = [\n",
    "    (24.950899, 60.169158),\n",
    "    (24.953492, 60.169158),\n",
    "    (24.953510, 60.170104),\n",
    "    (24.950958, 60.169990),\n",
    "]\n",
    "\n",
    "poly = Polygon(coordinates)"
   ]
  },
  {
   "cell_type": "code",
   "execution_count": 82,
   "id": "fce4012e-fdc6-40ef-8045-b4d2d72e5979",
   "metadata": {},
   "outputs": [
    {
     "data": {
      "text/html": [
       "<div>\n",
       "<style scoped>\n",
       "    .dataframe tbody tr th:only-of-type {\n",
       "        vertical-align: middle;\n",
       "    }\n",
       "\n",
       "    .dataframe tbody tr th {\n",
       "        vertical-align: top;\n",
       "    }\n",
       "\n",
       "    .dataframe thead th {\n",
       "        text-align: right;\n",
       "    }\n",
       "</style>\n",
       "<table border=\"1\" class=\"dataframe\">\n",
       "  <thead>\n",
       "    <tr style=\"text-align: right;\">\n",
       "      <th></th>\n",
       "      <th>geometry</th>\n",
       "    </tr>\n",
       "  </thead>\n",
       "  <tbody>\n",
       "    <tr>\n",
       "      <th>0</th>\n",
       "      <td>POLYGON ((24.9509 60.16916, 24.95349 60.16916,...</td>\n",
       "    </tr>\n",
       "  </tbody>\n",
       "</table>\n",
       "</div>"
      ],
      "text/plain": [
       "                                            geometry\n",
       "0  POLYGON ((24.9509 60.16916, 24.95349 60.16916,..."
      ]
     },
     "execution_count": 82,
     "metadata": {},
     "output_type": "execute_result"
    }
   ],
   "source": [
    "newdata = gpd.GeoDataFrame(geometry=[poly])\n",
    "newdata"
   ]
  },
  {
   "cell_type": "code",
   "execution_count": 83,
   "id": "f38cbcc0-988a-47b8-835f-df022ad5a1de",
   "metadata": {},
   "outputs": [
    {
     "data": {
      "image/png": "[encoded data removed]",
      "text/plain": [
       "<Figure size 640x480 with 1 Axes>"
      ]
     },
     "metadata": {},
     "output_type": "display_data"
    }
   ],
   "source": [
    "newdata.plot();"
   ]
  },
  {
   "cell_type": "code",
   "execution_count": 84,
   "id": "0ce25d74-af9c-4695-af3f-0112b9741456",
   "metadata": {},
   "outputs": [
    {
     "data": {
      "text/html": [
       "<div>\n",
       "<style scoped>\n",
       "    .dataframe tbody tr th:only-of-type {\n",
       "        vertical-align: middle;\n",
       "    }\n",
       "\n",
       "    .dataframe tbody tr th {\n",
       "        vertical-align: top;\n",
       "    }\n",
       "\n",
       "    .dataframe thead th {\n",
       "        text-align: right;\n",
       "    }\n",
       "</style>\n",
       "<table border=\"1\" class=\"dataframe\">\n",
       "  <thead>\n",
       "    <tr style=\"text-align: right;\">\n",
       "      <th></th>\n",
       "      <th>geometry</th>\n",
       "      <th>name</th>\n",
       "      <th>city</th>\n",
       "      <th>year</th>\n",
       "    </tr>\n",
       "  </thead>\n",
       "  <tbody>\n",
       "    <tr>\n",
       "      <th>0</th>\n",
       "      <td>POLYGON ((24.9509 60.16916, 24.95349 60.16916,...</td>\n",
       "      <td>Senate Square</td>\n",
       "      <td>Helsinki</td>\n",
       "      <td>2023</td>\n",
       "    </tr>\n",
       "  </tbody>\n",
       "</table>\n",
       "</div>"
      ],
      "text/plain": [
       "                                            geometry           name      city  \\\n",
       "0  POLYGON ((24.9509 60.16916, 24.95349 60.16916,...  Senate Square  Helsinki   \n",
       "\n",
       "   year  \n",
       "0  2023  "
      ]
     },
     "execution_count": 84,
     "metadata": {},
     "output_type": "execute_result"
    }
   ],
   "source": [
    "gdf_data = {\n",
    "    \"geometry\": [poly],\n",
    "    \"name\": \"Senate Square\",\n",
    "    \"city\": \"Helsinki\",\n",
    "    \"year\": 2023,\n",
    "}\n",
    "new_data_extended = gpd.GeoDataFrame(gdf_data)\n",
    "new_data_extended"
   ]
  },
  {
   "cell_type": "code",
   "execution_count": 89,
   "id": "1ca4659b-58c9-4163-be26-31c33d44a5ff",
   "metadata": {},
   "outputs": [
    {
     "data": {
      "text/html": [
       "<div>\n",
       "<style scoped>\n",
       "    .dataframe tbody tr th:only-of-type {\n",
       "        vertical-align: middle;\n",
       "    }\n",
       "\n",
       "    .dataframe tbody tr th {\n",
       "        vertical-align: top;\n",
       "    }\n",
       "\n",
       "    .dataframe thead th {\n",
       "        text-align: right;\n",
       "    }\n",
       "</style>\n",
       "<table border=\"1\" class=\"dataframe\">\n",
       "  <thead>\n",
       "    <tr style=\"text-align: right;\">\n",
       "      <th></th>\n",
       "      <th>Airport ID</th>\n",
       "      <th>Name</th>\n",
       "      <th>City</th>\n",
       "      <th>Country</th>\n",
       "      <th>Latitude</th>\n",
       "      <th>Longitude</th>\n",
       "    </tr>\n",
       "  </thead>\n",
       "  <tbody>\n",
       "    <tr>\n",
       "      <th>0</th>\n",
       "      <td>1</td>\n",
       "      <td>Goroka Airport</td>\n",
       "      <td>Goroka</td>\n",
       "      <td>Papua New Guinea</td>\n",
       "      <td>-6.081690</td>\n",
       "      <td>145.391998</td>\n",
       "    </tr>\n",
       "    <tr>\n",
       "      <th>1</th>\n",
       "      <td>2</td>\n",
       "      <td>Madang Airport</td>\n",
       "      <td>Madang</td>\n",
       "      <td>Papua New Guinea</td>\n",
       "      <td>-5.207080</td>\n",
       "      <td>145.789001</td>\n",
       "    </tr>\n",
       "    <tr>\n",
       "      <th>2</th>\n",
       "      <td>3</td>\n",
       "      <td>Mount Hagen Kagamuga Airport</td>\n",
       "      <td>Mount Hagen</td>\n",
       "      <td>Papua New Guinea</td>\n",
       "      <td>-5.826790</td>\n",
       "      <td>144.296005</td>\n",
       "    </tr>\n",
       "    <tr>\n",
       "      <th>3</th>\n",
       "      <td>4</td>\n",
       "      <td>Nadzab Airport</td>\n",
       "      <td>Nadzab</td>\n",
       "      <td>Papua New Guinea</td>\n",
       "      <td>-6.569803</td>\n",
       "      <td>146.725977</td>\n",
       "    </tr>\n",
       "    <tr>\n",
       "      <th>4</th>\n",
       "      <td>5</td>\n",
       "      <td>Port Moresby Jacksons International Airport</td>\n",
       "      <td>Port Moresby</td>\n",
       "      <td>Papua New Guinea</td>\n",
       "      <td>-9.443380</td>\n",
       "      <td>147.220001</td>\n",
       "    </tr>\n",
       "  </tbody>\n",
       "</table>\n",
       "</div>"
      ],
      "text/plain": [
       "   Airport ID                                         Name          City  \\\n",
       "0           1                               Goroka Airport        Goroka   \n",
       "1           2                               Madang Airport        Madang   \n",
       "2           3                 Mount Hagen Kagamuga Airport   Mount Hagen   \n",
       "3           4                               Nadzab Airport        Nadzab   \n",
       "4           5  Port Moresby Jacksons International Airport  Port Moresby   \n",
       "\n",
       "            Country  Latitude   Longitude  \n",
       "0  Papua New Guinea -6.081690  145.391998  \n",
       "1  Papua New Guinea -5.207080  145.789001  \n",
       "2  Papua New Guinea -5.826790  144.296005  \n",
       "3  Papua New Guinea -6.569803  146.725977  \n",
       "4  Papua New Guinea -9.443380  147.220001  "
      ]
     },
     "execution_count": 89,
     "metadata": {},
     "output_type": "execute_result"
    }
   ],
   "source": [
    "import pandas as pd\n",
    "\n",
    "airports = pd.read_csv(\n",
    "    \"_data/airports.txt\",\n",
    "    usecols=[\"Airport ID\", \"Name\", \"City\", \"Country\", \"Latitude\", \"Longitude\"],\n",
    ")\n",
    "airports.head()"
   ]
  },
  {
   "cell_type": "code",
   "execution_count": 91,
   "id": "bcc421a2-d547-4bf9-ad49-52957dbc994c",
   "metadata": {},
   "outputs": [
    {
     "data": {
      "text/html": [
       "<div>\n",
       "<style scoped>\n",
       "    .dataframe tbody tr th:only-of-type {\n",
       "        vertical-align: middle;\n",
       "    }\n",
       "\n",
       "    .dataframe tbody tr th {\n",
       "        vertical-align: top;\n",
       "    }\n",
       "\n",
       "    .dataframe thead th {\n",
       "        text-align: right;\n",
       "    }\n",
       "</style>\n",
       "<table border=\"1\" class=\"dataframe\">\n",
       "  <thead>\n",
       "    <tr style=\"text-align: right;\">\n",
       "      <th></th>\n",
       "      <th>Airport ID</th>\n",
       "      <th>Name</th>\n",
       "      <th>City</th>\n",
       "      <th>Country</th>\n",
       "      <th>Latitude</th>\n",
       "      <th>Longitude</th>\n",
       "      <th>geometry</th>\n",
       "    </tr>\n",
       "  </thead>\n",
       "  <tbody>\n",
       "    <tr>\n",
       "      <th>0</th>\n",
       "      <td>1</td>\n",
       "      <td>Goroka Airport</td>\n",
       "      <td>Goroka</td>\n",
       "      <td>Papua New Guinea</td>\n",
       "      <td>-6.081690</td>\n",
       "      <td>145.391998</td>\n",
       "      <td>POINT (145.392 -6.08169)</td>\n",
       "    </tr>\n",
       "    <tr>\n",
       "      <th>1</th>\n",
       "      <td>2</td>\n",
       "      <td>Madang Airport</td>\n",
       "      <td>Madang</td>\n",
       "      <td>Papua New Guinea</td>\n",
       "      <td>-5.207080</td>\n",
       "      <td>145.789001</td>\n",
       "      <td>POINT (145.789 -5.20708)</td>\n",
       "    </tr>\n",
       "    <tr>\n",
       "      <th>2</th>\n",
       "      <td>3</td>\n",
       "      <td>Mount Hagen Kagamuga Airport</td>\n",
       "      <td>Mount Hagen</td>\n",
       "      <td>Papua New Guinea</td>\n",
       "      <td>-5.826790</td>\n",
       "      <td>144.296005</td>\n",
       "      <td>POINT (144.29601 -5.82679)</td>\n",
       "    </tr>\n",
       "    <tr>\n",
       "      <th>3</th>\n",
       "      <td>4</td>\n",
       "      <td>Nadzab Airport</td>\n",
       "      <td>Nadzab</td>\n",
       "      <td>Papua New Guinea</td>\n",
       "      <td>-6.569803</td>\n",
       "      <td>146.725977</td>\n",
       "      <td>POINT (146.72598 -6.5698)</td>\n",
       "    </tr>\n",
       "    <tr>\n",
       "      <th>4</th>\n",
       "      <td>5</td>\n",
       "      <td>Port Moresby Jacksons International Airport</td>\n",
       "      <td>Port Moresby</td>\n",
       "      <td>Papua New Guinea</td>\n",
       "      <td>-9.443380</td>\n",
       "      <td>147.220001</td>\n",
       "      <td>POINT (147.22 -9.44338)</td>\n",
       "    </tr>\n",
       "  </tbody>\n",
       "</table>\n",
       "</div>"
      ],
      "text/plain": [
       "   Airport ID                                         Name          City  \\\n",
       "0           1                               Goroka Airport        Goroka   \n",
       "1           2                               Madang Airport        Madang   \n",
       "2           3                 Mount Hagen Kagamuga Airport   Mount Hagen   \n",
       "3           4                               Nadzab Airport        Nadzab   \n",
       "4           5  Port Moresby Jacksons International Airport  Port Moresby   \n",
       "\n",
       "            Country  Latitude   Longitude                    geometry  \n",
       "0  Papua New Guinea -6.081690  145.391998    POINT (145.392 -6.08169)  \n",
       "1  Papua New Guinea -5.207080  145.789001    POINT (145.789 -5.20708)  \n",
       "2  Papua New Guinea -5.826790  144.296005  POINT (144.29601 -5.82679)  \n",
       "3  Papua New Guinea -6.569803  146.725977   POINT (146.72598 -6.5698)  \n",
       "4  Papua New Guinea -9.443380  147.220001     POINT (147.22 -9.44338)  "
      ]
     },
     "execution_count": 91,
     "metadata": {},
     "output_type": "execute_result"
    }
   ],
   "source": [
    "airports[\"geometry\"] = gpd.points_from_xy(\n",
    "    x=airports[\"Longitude\"], y=airports[\"Latitude\"]\n",
    ")\n",
    "\n",
    "airports = gpd.GeoDataFrame(airports)\n",
    "airports.head()"
   ]
  },
  {
   "cell_type": "code",
   "execution_count": 92,
   "id": "b8105c1a-50b0-4c73-8313-0662da678bf1",
   "metadata": {},
   "outputs": [
    {
     "data": {
      "image/png": "[encoded data removed]",
      "text/plain": [
       "<Figure size 640x480 with 1 Axes>"
      ]
     },
     "metadata": {},
     "output_type": "display_data"
    }
   ],
   "source": [
    "airports.plot(markersize=0.1);"
   ]
  },
  {
   "cell_type": "code",
   "execution_count": null,
   "id": "9f64ba16-f9f9-4167-ac2d-66e64fc850b6",
   "metadata": {},
   "outputs": [],
   "source": []
  }
 ],
 "metadata": {
  "kernelspec": {
   "display_name": "Python 3 (ipykernel)",
   "language": "python",
   "name": "python3"
  },
  "language_info": {
   "codemirror_mode": {
    "name": "ipython",
    "version": 3
   },
   "file_extension": ".py",
   "mimetype": "text/x-python",
   "name": "python",
   "nbconvert_exporter": "python",
   "pygments_lexer": "ipython3",
   "version": "3.13.7"
  }
 },
 "nbformat": 4,
 "nbformat_minor": 5
}
